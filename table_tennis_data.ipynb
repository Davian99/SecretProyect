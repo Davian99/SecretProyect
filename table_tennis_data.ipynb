{
 "cells": [
  {
   "cell_type": "code",
   "execution_count": 50,
   "metadata": {},
   "outputs": [],
   "source": [
    "import sqlite3\n",
    "import time\n",
    "from bs4 import BeautifulSoup\n",
    "from requests import get\n",
    "from abc import ABC\n",
    "import Levenshtein as lev\n",
    "import string\n",
    "import json"
   ]
  },
  {
   "cell_type": "code",
   "execution_count": 2,
   "metadata": {},
   "outputs": [],
   "source": [
    "conn = sqlite3.connect(\"bets_database.db\")\n",
    "cursor = conn.cursor()\n",
    "\n",
    "#If the table does not exists, we create it\n",
    "if cursor.execute(\"PRAGMA table_info(TABLE_TENNIS_PLAYERS)\").fetchall() == []:\n",
    "    tennis_players_table_query = \"\"\"CREATE TABLE TABLE_TENNIS_PLAYERS (\n",
    "        name TEXT UNIQUE\n",
    "    );\"\"\"\n",
    "    cursor.execute(tennis_players_table_query)\n",
    "    conn.commit()"
   ]
  },
  {
   "cell_type": "code",
   "execution_count": 26,
   "metadata": {},
   "outputs": [
    {
     "name": "stdout",
     "output_type": "stream",
     "text": [
      "Anatoliy Ilin\n",
      "Aleksey Vlasov\n",
      "Oleg Kutuzov\n",
      "Dmitry Balakin\n",
      "Sergey Myagkov\n",
      "Vasily Shirshov\n",
      "Sergei Ogai\n",
      "Roman Pavlenko\n",
      "Sergey Martyukhin\n",
      "Denis Sayanov\n",
      "Tynchtyk Turabekov\n",
      "Arutyun Aslanyan\n",
      "Pavel Khramkov\n",
      "Petr Zjuzikov\n",
      "Dmitri Razinkov\n",
      "Egor Mishutin\n",
      "Dmitry Tikhnenko\n",
      "Aleksandr Alekseev\n",
      "Kirill Malahov\n",
      "Artem Slashchev\n",
      "Aleksandr Klavdenkov\n",
      "Bogdan Grebenyuk\n",
      "Georgy Bardyshev\n",
      "Vladimir Mishakin\n",
      "24\n",
      "0\n",
      "0\n",
      "0\n",
      "0\n"
     ]
    },
    {
     "ename": "AttributeError",
     "evalue": "'set' object has no attribute 'sort'",
     "output_type": "error",
     "traceback": [
      "\u001b[1;31m---------------------------------------------------------------------------\u001b[0m",
      "\u001b[1;31mAttributeError\u001b[0m                            Traceback (most recent call last)",
      "\u001b[1;32m<ipython-input-26-2ca273ea7a4b>\u001b[0m in \u001b[0;36m<module>\u001b[1;34m\u001b[0m\n\u001b[0;32m     13\u001b[0m             \u001b[0mprint\u001b[0m\u001b[1;33m(\u001b[0m\u001b[0mp\u001b[0m\u001b[1;33m)\u001b[0m\u001b[1;33m\u001b[0m\u001b[1;33m\u001b[0m\u001b[0m\n\u001b[0;32m     14\u001b[0m     \u001b[0mprint\u001b[0m\u001b[1;33m(\u001b[0m\u001b[0mcnt\u001b[0m\u001b[1;33m)\u001b[0m\u001b[1;33m\u001b[0m\u001b[1;33m\u001b[0m\u001b[0m\n\u001b[1;32m---> 15\u001b[1;33m \u001b[0mprint\u001b[0m\u001b[1;33m(\u001b[0m\u001b[0mp_set\u001b[0m\u001b[1;33m.\u001b[0m\u001b[0msort\u001b[0m\u001b[1;33m(\u001b[0m\u001b[1;33m)\u001b[0m\u001b[1;33m)\u001b[0m\u001b[1;33m\u001b[0m\u001b[1;33m\u001b[0m\u001b[0m\n\u001b[0m",
      "\u001b[1;31mAttributeError\u001b[0m: 'set' object has no attribute 'sort'"
     ]
    }
   ],
   "source": [
    "p_set = set()\n",
    "for i in range(1, 6):\n",
    "    cnt = 0\n",
    "    html = open(f\"tt_htmls/{1}.html\", encoding='UTF-8').read()\n",
    "    soup = BeautifulSoup(html, \"html.parser\")\n",
    "    table = soup.find(\"tbody\")\n",
    "    players = table.findAll(\"a\")\n",
    "    for p in players:\n",
    "        p = p.text\n",
    "        if all(x.isalpha() or x.isspace() for x in p) and p != \"Cancelled\" and p not in p_set:\n",
    "            cnt += 1\n",
    "            p_set.add(p)\n",
    "            print(p)\n",
    "    print(cnt)\n",
    "print(p_set.sort())"
   ]
  },
  {
   "cell_type": "code",
   "execution_count": null,
   "metadata": {},
   "outputs": [],
   "source": [
    "div.ml__row:nth-child(3) > span:nth-child(1) > a:nth-child(1) > div:nth-child(2) > div:nth-child(1) > div:nth-child(2)\n",
    "div.ml__row:nth-child(3) > span:nth-child(1) > a:nth-child(1) > div:nth-child(2) > div:nth-child(2) > div:nth-child(2)\n",
    "div.ml__row:nth-child(91) > span:nth-child(1) > a:nth-child(1) > div:nth-child(2) > div:nth-child(1) > div:nth-child(2)"
   ]
  },
  {
   "cell_type": "code",
   "execution_count": 83,
   "metadata": {},
   "outputs": [],
   "source": [
    "p2_set = set()\n",
    "for i in range(1, 2):\n",
    "    cnt = 0\n",
    "    html = open(f\"tt_htmls/{1}1.htm\", encoding='UTF-8').read()\n",
    "    soup = BeautifulSoup(html, \"html.parser\")\n",
    "    table = soup.findAll(\"script\", attrs={'type': 'application/ld+json'})\n",
    "    for i in range(len(table)):\n",
    "        j = json.loads(table[i].contents[0])\n",
    "        try:\n",
    "            home, away = j['hometeam'][0]['name'].upper(), j['awayteam'][0]['name'].upper()\n",
    "            if home not in p2_set:\n",
    "                cnt += 1\n",
    "                p2_set.add(home)\n",
    "            if away not in p2_set:\n",
    "                cnt += 1\n",
    "                p2_set.add(away)\n",
    "        except:\n",
    "            pass\n",
    "l = list(p2_set)\n",
    "l.sort()\n",
    "for p in l:\n",
    "    query = f\"INSERT INTO TABLE_TENNIS_PLAYERS VALUES (\\\"{p}\\\")\"\n",
    "    cursor.execute(query)\n",
    "conn.commit()"
   ]
  },
  {
   "cell_type": "code",
   "execution_count": 71,
   "metadata": {},
   "outputs": [
    {
     "name": "stdout",
     "output_type": "stream",
     "text": [
      "Sergey Ogay - Alexander Fedosov\n"
     ]
    }
   ],
   "source": [
    "j = json.loads(table[2].contents[0])\n",
    "print(j['name'])"
   ]
  },
  {
   "cell_type": "code",
   "execution_count": 66,
   "metadata": {},
   "outputs": [
    {
     "name": "stdout",
     "output_type": "stream",
     "text": [
      "Anatoly Ilin\n",
      "Alexey Vlasov\n"
     ]
    }
   ],
   "source": [
    "print(j['hometeam'][0]['name'])\n",
    "print(j['awayteam'][0]['name'])"
   ]
  }
 ],
 "metadata": {
  "interpreter": {
   "hash": "63fd5069d213b44bf678585dea6b12cceca9941eaf7f819626cde1f2670de90d"
  },
  "kernelspec": {
   "display_name": "Python 3",
   "language": "python",
   "name": "python3"
  },
  "language_info": {
   "codemirror_mode": {
    "name": "ipython",
    "version": 3
   },
   "file_extension": ".py",
   "mimetype": "text/x-python",
   "name": "python",
   "nbconvert_exporter": "python",
   "pygments_lexer": "ipython3",
   "version": "3.8.5"
  }
 },
 "nbformat": 4,
 "nbformat_minor": 4
}
