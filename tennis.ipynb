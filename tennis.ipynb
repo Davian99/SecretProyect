{
 "metadata": {
  "language_info": {
   "codemirror_mode": {
    "name": "ipython",
    "version": 3
   },
   "file_extension": ".py",
   "mimetype": "text/x-python",
   "name": "python",
   "nbconvert_exporter": "python",
   "pygments_lexer": "ipython3",
   "version": "3.9.4"
  },
  "orig_nbformat": 4,
  "kernelspec": {
   "name": "python3",
   "display_name": "Python 3.9.4 64-bit"
  },
  "interpreter": {
   "hash": "63fd5069d213b44bf678585dea6b12cceca9941eaf7f819626cde1f2670de90d"
  }
 },
 "nbformat": 4,
 "nbformat_minor": 2,
 "cells": [
  {
   "cell_type": "code",
   "execution_count": 4,
   "metadata": {},
   "outputs": [],
   "source": [
    "import sqlite3\n",
    "import time\n",
    "from bs4 import BeautifulSoup\n",
    "from requests import get\n",
    "from abc import ABC\n",
    "import Levenshtein as lev\n",
    "import string"
   ]
  },
  {
   "cell_type": "code",
   "execution_count": 94,
   "metadata": {},
   "outputs": [],
   "source": [
    "conn = sqlite3.connect(\"bets_database.db\")\n",
    "cursor = conn.cursor()\n",
    "\n",
    "#If the table does not exists, we create it\n",
    "if cursor.execute(\"PRAGMA table_info(TENNIS_PLAYERS)\").fetchall() == []:\n",
    "    tennis_players_table_query = \"\"\"CREATE TABLE TENNIS_PLAYERS (\n",
    "        name TEXT     UNIQUE,\n",
    "        sex  TEXT (1) \n",
    "    );\"\"\"\n",
    "    cursor.execute(tennis_players_table_query)\n",
    "    conn.commit()"
   ]
  },
  {
   "cell_type": "code",
   "execution_count": 98,
   "metadata": {},
   "outputs": [],
   "source": [
    "def get_ranking(page, sex):\n",
    "    response = get(page)\n",
    "    soup = BeautifulSoup(response.content, \"html.parser\")\n",
    "    table = soup.find(attrs={'id':'u868'})\n",
    "    table = table.findAll(\"tbody\")[10]\n",
    "    for elem, i in zip(table, range(len(table))):\n",
    "        if i % 2 == 0:\n",
    "            continue\n",
    "        player = elem.find(\"td\", attrs={'class':'pn'})\n",
    "        ranking = elem.find(\"td\", attrs={'class':'rk'})\n",
    "        if player == None or ranking == None:\n",
    "            continue\n",
    "        query = f\"INSERT INTO TENNIS_PLAYERS VALUES (\\\"{player.text}\\\", \\\"{sex}\\\")\"\n",
    "        try:\n",
    "            cursor.execute(query)\n",
    "        except:\n",
    "            continue"
   ]
  },
  {
   "cell_type": "code",
   "execution_count": 100,
   "metadata": {},
   "outputs": [
    {
     "output_type": "stream",
     "name": "stdout",
     "text": [
      "Wall time: 4.62 s\n"
     ]
    }
   ],
   "source": [
    "%%time\n",
    "get_ranking(\"https://live-tennis.eu/en/atp-live-ranking\", \"H\")\n",
    "get_ranking(\"https://live-tennis.eu/en/wta-live-ranking\", \"W\")\n",
    "conn.commit()"
   ]
  }
 ]
}