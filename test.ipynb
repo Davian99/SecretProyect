{
 "metadata": {
  "language_info": {
   "codemirror_mode": {
    "name": "ipython",
    "version": 3
   },
   "file_extension": ".py",
   "mimetype": "text/x-python",
   "name": "python",
   "nbconvert_exporter": "python",
   "pygments_lexer": "ipython3",
   "version": "3.9.4"
  },
  "orig_nbformat": 4,
  "kernelspec": {
   "name": "python3",
   "display_name": "Python 3.9.4 64-bit"
  },
  "interpreter": {
   "hash": "63fd5069d213b44bf678585dea6b12cceca9941eaf7f819626cde1f2670de90d"
  }
 },
 "nbformat": 4,
 "nbformat_minor": 2,
 "cells": [
  {
   "source": [
    "# Reventar a las casas de apuestas"
   ],
   "cell_type": "markdown",
   "metadata": {}
  },
  {
   "source": [
    "### Imports and options"
   ],
   "cell_type": "markdown",
   "metadata": {}
  },
  {
   "cell_type": "code",
   "execution_count": 50,
   "metadata": {},
   "outputs": [],
   "source": [
    "import sqlite3\n",
    "import time\n",
    "from bs4 import BeautifulSoup\n",
    "from abc import ABC\n",
    "import Levenshtein as lev\n",
    "import string"
   ]
  },
  {
   "cell_type": "code",
   "execution_count": 68,
   "metadata": {},
   "outputs": [
    {
     "output_type": "stream",
     "name": "stdout",
     "text": [
      "ATP total: 54625\nWTA total: 39179\nALL total: 93751\n"
     ]
    }
   ],
   "source": [
    "# Source: https://github.com/JeffSackmann/tennis_atp y https://github.com/JeffSackmann/tennis_wta\n",
    "\"\"\"\n",
    "atp, wta, all = set(), set(), set()\n",
    "for row in open(\"atp_players.csv\"):\n",
    "    player = row.split(',')\n",
    "#    if player[4] == \"\" or int(player[4][:4]) <= 1980:\n",
    "#        continue\n",
    "    atp.add((player[1] + ' ' + player[2]).upper())\n",
    "for row in open(\"wta_players.csv\"):\n",
    "    player = row.split(',')\n",
    "#    if player[4] == \"\" or int(player[4][:4]) <= 1980:\n",
    "#        continue\n",
    "    wta.add((player[1] + ' ' + player[2]).upper())\n",
    "all_players = atp.union(wta)\n",
    "print(f\"ATP total: {len(atp)}\")\n",
    "print(f\"WTA total: {len(wta)}\")\n",
    "print(f\"ALL total: {len(all_players)}\")\n",
    "\"\"\""
   ]
  },
  {
   "cell_type": "code",
   "execution_count": 191,
   "metadata": {},
   "outputs": [],
   "source": [
    "conn = sqlite3.connect(\"bets_database.db\")\n",
    "cursor = conn.cursor()\n",
    "\n",
    "#If the table does not exists, we create it\n",
    "if cursor.execute(\"PRAGMA table_info(TENNIS_PLAYERS)\").fetchall() == []:\n",
    "    tennis_players_table_query = \"\"\"CREATE TABLE TENNIS_PLAYERS (\n",
    "        name TEXT     UNIQUE,\n",
    "        sex  TEXT (1) \n",
    "    );\"\"\"\n",
    "    cursor.execute(tennis_players_table_query)\n",
    "    conn.commit()"
   ]
  },
  {
   "cell_type": "code",
   "execution_count": 197,
   "metadata": {},
   "outputs": [],
   "source": [
    "all_players = set([x[0].upper() for x in cursor.execute(\"SELECT name FROM TENNIS_PLAYERS\").fetchall()])"
   ]
  },
  {
   "cell_type": "code",
   "execution_count": 207,
   "metadata": {},
   "outputs": [],
   "source": [
    "from selenium import webdriver\n",
    "from selenium.webdriver.common.keys import Keys\n",
    "from selenium.webdriver.common.by import By\n",
    "from selenium.webdriver.support.wait import WebDriverWait\n",
    "from selenium.webdriver.support import expected_conditions as EC # Wait for condition\n",
    "\n",
    "options = webdriver.ChromeOptions()\n",
    "options.add_argument('ignore-certificate-errors')\n",
    "options.add_argument(\"--window-size=1920,1080\")\n",
    "options.add_argument('--headless')\n",
    "options.add_experimental_option(\"excludeSwitches\", [\"enable-automation\"])\n",
    "options.add_experimental_option('useAutomationExtension', False)\n",
    "\n",
    "#options.add_experimental_option('excludeSwitches', ['enable-logging'])\n",
    "\n",
    "driver = webdriver.Chrome(options=options)"
   ]
  },
  {
   "cell_type": "code",
   "execution_count": 176,
   "metadata": {},
   "outputs": [],
   "source": [
    "class Bet():\n",
    "    def __init__(self, teams, bets):\n",
    "        self.teams = [x.strip().upper() for x in teams]\n",
    "        self.real_teams = None\n",
    "        self.bets = [float(x.replace(',', '.')) for x in bets]\n",
    "        self.date_time = None\n",
    "        self.link = None\n",
    "        self.house = None\n",
    "    \n",
    "    def is_error(self):\n",
    "        if len(self.teams) < 2 or len(self.bets) < 2:\n",
    "            return True\n",
    "        return False\n",
    "\n",
    "    def __repr__(self):\n",
    "        if self.is_error():\n",
    "            return \"ERROR BET\"\n",
    "        return f\"{self.teams[0]} ({self.bets[0]}) x {self.teams[1]} ({self.bets[1]})\""
   ]
  },
  {
   "cell_type": "code",
   "execution_count": 5,
   "metadata": {},
   "outputs": [],
   "source": [
    "class House(ABC):\n",
    "    def link_sport(self, sport):\n",
    "        pass\n",
    "    def sport_bets(self, sport):\n",
    "        pass"
   ]
  },
  {
   "cell_type": "code",
   "execution_count": 6,
   "metadata": {},
   "outputs": [],
   "source": [
    "class Retabet(House):\n",
    "    def __init__(self):\n",
    "        self.link = \"https://apuestas.retabet.es\"\n",
    "        self.sports = {\"tennis\" : \"tenis-m8\"}\n",
    "\n",
    "    def link_sport(self, sport):\n",
    "        return f\"{self.link}/deportes/{self.sports[sport]}\"\n",
    "\n",
    "    def sport_bets(self, sport):\n",
    "        driver.get(self.link_sport(sport))\n",
    "        response = driver.page_source\n",
    "        soup = BeautifulSoup(response, \"html.parser\")\n",
    "        table = soup.find('ul', attrs={'class':'module__events-cont jbgroup'}) #TODO findAll\n",
    "        ret_bets = []\n",
    "        for row in table:\n",
    "            row = row.find('a', attrs={'class':'jlink'})\n",
    "            teams = row.find('div', attrs={'class':'module__event-info'})\n",
    "            teams = teams.find('ul', attrs={'class':'module__event-players'})\n",
    "            teams = list(map(lambda elem: elem.text, teams.findAll('li')))\n",
    "\n",
    "            bets = row.find('div', attrs={'class':'list-events__element__bets'})\n",
    "            bets = row.find('div', attrs={'class':'module__bets-list jbet'})\n",
    "            bets = row.findAll('li', attrs={'class':'jo module__bets-li'})\n",
    "            bets_list = []\n",
    "            for bet, _ in zip(bets, range(2)):\n",
    "                bet = bet.find('span', attrs={'class':'jpr module__bets-cuota'})\n",
    "                bets_list.append(bet.text)\n",
    "\n",
    "            bet = Bet(teams, bets_list)\n",
    "            ret_bets.append(bet)\n",
    "        return ret_bets"
   ]
  },
  {
   "cell_type": "code",
   "execution_count": 212,
   "metadata": {
    "tags": []
   },
   "outputs": [
    {
     "output_type": "error",
     "ename": "ValueError",
     "evalue": "could not convert string to float: '1,27'",
     "traceback": [
      "\u001b[1;31m---------------------------------------------------------------------------\u001b[0m",
      "\u001b[1;31mValueError\u001b[0m                                Traceback (most recent call last)",
      "\u001b[1;32m<timed exec>\u001b[0m in \u001b[0;36m<module>\u001b[1;34m\u001b[0m\n",
      "\u001b[1;32m<ipython-input-6-4662e774c3d9>\u001b[0m in \u001b[0;36msport_bets\u001b[1;34m(self, sport)\u001b[0m\n\u001b[0;32m     27\u001b[0m                 \u001b[0mbets_list\u001b[0m\u001b[1;33m.\u001b[0m\u001b[0mappend\u001b[0m\u001b[1;33m(\u001b[0m\u001b[0mbet\u001b[0m\u001b[1;33m.\u001b[0m\u001b[0mtext\u001b[0m\u001b[1;33m)\u001b[0m\u001b[1;33m\u001b[0m\u001b[1;33m\u001b[0m\u001b[0m\n\u001b[0;32m     28\u001b[0m \u001b[1;33m\u001b[0m\u001b[0m\n\u001b[1;32m---> 29\u001b[1;33m             \u001b[0mbet\u001b[0m \u001b[1;33m=\u001b[0m \u001b[0mBet\u001b[0m\u001b[1;33m(\u001b[0m\u001b[0mteams\u001b[0m\u001b[1;33m,\u001b[0m \u001b[0mbets_list\u001b[0m\u001b[1;33m)\u001b[0m\u001b[1;33m\u001b[0m\u001b[1;33m\u001b[0m\u001b[0m\n\u001b[0m\u001b[0;32m     30\u001b[0m             \u001b[0mret_bets\u001b[0m\u001b[1;33m.\u001b[0m\u001b[0mappend\u001b[0m\u001b[1;33m(\u001b[0m\u001b[0mbet\u001b[0m\u001b[1;33m)\u001b[0m\u001b[1;33m\u001b[0m\u001b[1;33m\u001b[0m\u001b[0m\n\u001b[0;32m     31\u001b[0m         \u001b[1;32mreturn\u001b[0m \u001b[0mret_bets\u001b[0m\u001b[1;33m\u001b[0m\u001b[1;33m\u001b[0m\u001b[0m\n",
      "\u001b[1;32m<ipython-input-176-a838d4cb00c5>\u001b[0m in \u001b[0;36m__init__\u001b[1;34m(self, teams, bets)\u001b[0m\n\u001b[0;32m      3\u001b[0m         \u001b[0mself\u001b[0m\u001b[1;33m.\u001b[0m\u001b[0mteams\u001b[0m \u001b[1;33m=\u001b[0m \u001b[1;33m[\u001b[0m\u001b[0mx\u001b[0m\u001b[1;33m.\u001b[0m\u001b[0mstrip\u001b[0m\u001b[1;33m(\u001b[0m\u001b[1;33m)\u001b[0m\u001b[1;33m.\u001b[0m\u001b[0mupper\u001b[0m\u001b[1;33m(\u001b[0m\u001b[1;33m)\u001b[0m \u001b[1;32mfor\u001b[0m \u001b[0mx\u001b[0m \u001b[1;32min\u001b[0m \u001b[0mteams\u001b[0m\u001b[1;33m]\u001b[0m\u001b[1;33m\u001b[0m\u001b[1;33m\u001b[0m\u001b[0m\n\u001b[0;32m      4\u001b[0m         \u001b[0mself\u001b[0m\u001b[1;33m.\u001b[0m\u001b[0mreal_teams\u001b[0m \u001b[1;33m=\u001b[0m \u001b[1;32mNone\u001b[0m\u001b[1;33m\u001b[0m\u001b[1;33m\u001b[0m\u001b[0m\n\u001b[1;32m----> 5\u001b[1;33m         \u001b[0mself\u001b[0m\u001b[1;33m.\u001b[0m\u001b[0mbets\u001b[0m \u001b[1;33m=\u001b[0m \u001b[1;33m[\u001b[0m\u001b[0mfloat\u001b[0m\u001b[1;33m(\u001b[0m\u001b[0mx\u001b[0m\u001b[1;33m)\u001b[0m \u001b[1;32mfor\u001b[0m \u001b[0mx\u001b[0m \u001b[1;32min\u001b[0m \u001b[0mbets\u001b[0m\u001b[1;33m]\u001b[0m\u001b[1;33m\u001b[0m\u001b[1;33m\u001b[0m\u001b[0m\n\u001b[0m\u001b[0;32m      6\u001b[0m         \u001b[0mself\u001b[0m\u001b[1;33m.\u001b[0m\u001b[0mdate_time\u001b[0m \u001b[1;33m=\u001b[0m \u001b[1;32mNone\u001b[0m\u001b[1;33m\u001b[0m\u001b[1;33m\u001b[0m\u001b[0m\n\u001b[0;32m      7\u001b[0m         \u001b[0mself\u001b[0m\u001b[1;33m.\u001b[0m\u001b[0mlink\u001b[0m \u001b[1;33m=\u001b[0m \u001b[1;32mNone\u001b[0m\u001b[1;33m\u001b[0m\u001b[1;33m\u001b[0m\u001b[0m\n",
      "\u001b[1;32m<ipython-input-176-a838d4cb00c5>\u001b[0m in \u001b[0;36m<listcomp>\u001b[1;34m(.0)\u001b[0m\n\u001b[0;32m      3\u001b[0m         \u001b[0mself\u001b[0m\u001b[1;33m.\u001b[0m\u001b[0mteams\u001b[0m \u001b[1;33m=\u001b[0m \u001b[1;33m[\u001b[0m\u001b[0mx\u001b[0m\u001b[1;33m.\u001b[0m\u001b[0mstrip\u001b[0m\u001b[1;33m(\u001b[0m\u001b[1;33m)\u001b[0m\u001b[1;33m.\u001b[0m\u001b[0mupper\u001b[0m\u001b[1;33m(\u001b[0m\u001b[1;33m)\u001b[0m \u001b[1;32mfor\u001b[0m \u001b[0mx\u001b[0m \u001b[1;32min\u001b[0m \u001b[0mteams\u001b[0m\u001b[1;33m]\u001b[0m\u001b[1;33m\u001b[0m\u001b[1;33m\u001b[0m\u001b[0m\n\u001b[0;32m      4\u001b[0m         \u001b[0mself\u001b[0m\u001b[1;33m.\u001b[0m\u001b[0mreal_teams\u001b[0m \u001b[1;33m=\u001b[0m \u001b[1;32mNone\u001b[0m\u001b[1;33m\u001b[0m\u001b[1;33m\u001b[0m\u001b[0m\n\u001b[1;32m----> 5\u001b[1;33m         \u001b[0mself\u001b[0m\u001b[1;33m.\u001b[0m\u001b[0mbets\u001b[0m \u001b[1;33m=\u001b[0m \u001b[1;33m[\u001b[0m\u001b[0mfloat\u001b[0m\u001b[1;33m(\u001b[0m\u001b[0mx\u001b[0m\u001b[1;33m)\u001b[0m \u001b[1;32mfor\u001b[0m \u001b[0mx\u001b[0m \u001b[1;32min\u001b[0m \u001b[0mbets\u001b[0m\u001b[1;33m]\u001b[0m\u001b[1;33m\u001b[0m\u001b[1;33m\u001b[0m\u001b[0m\n\u001b[0m\u001b[0;32m      6\u001b[0m         \u001b[0mself\u001b[0m\u001b[1;33m.\u001b[0m\u001b[0mdate_time\u001b[0m \u001b[1;33m=\u001b[0m \u001b[1;32mNone\u001b[0m\u001b[1;33m\u001b[0m\u001b[1;33m\u001b[0m\u001b[0m\n\u001b[0;32m      7\u001b[0m         \u001b[0mself\u001b[0m\u001b[1;33m.\u001b[0m\u001b[0mlink\u001b[0m \u001b[1;33m=\u001b[0m \u001b[1;32mNone\u001b[0m\u001b[1;33m\u001b[0m\u001b[1;33m\u001b[0m\u001b[0m\n",
      "\u001b[1;31mValueError\u001b[0m: could not convert string to float: '1,27'"
     ]
    }
   ],
   "source": [
    "%%time\n",
    "reta = Retabet()\n",
    "reta_tennis = reta.sport_bets(\"tennis\")"
   ]
  },
  {
   "cell_type": "code",
   "execution_count": 8,
   "metadata": {},
   "outputs": [],
   "source": [
    "class Bwin(House):\n",
    "    def __init__(self):\n",
    "        self.link = \"https://sports.bwin.es/es/sports\"\n",
    "        self.sports = {\"tennis\" : \"tenis-5\"}\n",
    "\n",
    "    def link_sport(self, sport):\n",
    "        return f\"{self.link}/{self.sports[sport]}\"\n",
    "\n",
    "    def sport_bets(self, sport):\n",
    "        driver.get(self.link_sport(sport))\n",
    "        while True:\n",
    "            try:\n",
    "                driver.find_element_by_css_selector('#main-view > ms-widget-layout > ms-widget-slot.col-9.widget-slot')\n",
    "                break\n",
    "            except:\n",
    "                time.sleep(0.5)\n",
    "        response = driver.page_source\n",
    "        soup = BeautifulSoup(response, \"html.parser\")\n",
    "        table1 = soup.find('ms-widget-slot', attrs={'class':'col-9 widget-slot'})\n",
    "        table2 = table1.find('ms-tabbed-grid', attrs={'class':'grid-wrapper tabbed-grid-widget'})\n",
    "        table3 = table2.find('ms-grid')\n",
    "        table4 = table3.find('ms-event-group', attrs={'class':'event-group'})\n",
    "        rows = table4.findAll('ms-event', attrs={'class':'grid-event ms-active-highlight'})\n",
    "        \n",
    "        ret_bets = []\n",
    "        for row in rows:\n",
    "            try:\n",
    "                row = row.find('div', attrs={'class':'grid-event-wrapper'})\n",
    "                \n",
    "                teams = row.find('a', attrs={'class':'grid-info-wrapper fixed'})\n",
    "                teams = teams.find('ms-event-detail', attrs={'class':'grid-event-detail'})\n",
    "                teams = teams.find('ms-event-name', attrs={'class':'grid-event-name'})\n",
    "                teams = teams.find('ms-inline-tooltip')\n",
    "                teams = teams.find('div', attrs={'class':'participants-pair-game'})\n",
    "                teams = teams.findAll('div', {'class':['participant-wrapper ng-star-inserted', 'participant-wrapper']})\n",
    "                teams_final = []\n",
    "                for team in teams:\n",
    "                    team = team.find('div', attrs={'class':'participant'})\n",
    "                    team = team.find(text=True, recursive=False).strip()\n",
    "                    teams_final.append(team)\n",
    "\n",
    "                bets = row.find('div', attrs={'class':'grid-group-container'})\n",
    "                bets = row.find('ms-option-group', attrs={'class':'grid-option-group grid-group'})\n",
    "                bets = row.findAll('ms-option', attrs={'class':'grid-option'})\n",
    "                bets_final = []\n",
    "                for bet, _ in zip(bets, range(2)):\n",
    "                    bets_final.append(bet.text)\n",
    "\n",
    "                bet = Bet(teams_final, bets_final)\n",
    "                ret_bets.append(bet)\n",
    "            except:\n",
    "                pass\n",
    "        return ret_bets"
   ]
  },
  {
   "cell_type": "code",
   "execution_count": 209,
   "metadata": {},
   "outputs": [
    {
     "output_type": "stream",
     "name": "stdout",
     "text": [
      "Wall time: 3.8 s\n"
     ]
    }
   ],
   "source": [
    "%%time\n",
    "bwin = Bwin()\n",
    "bwin_tennis = bwin.sport_bets(\"tennis\")"
   ]
  },
  {
   "cell_type": "code",
   "execution_count": 210,
   "metadata": {},
   "outputs": [
    {
     "output_type": "stream",
     "name": "stdout",
     "text": [
      "[KAMILLA RAKHIMOVA (1.22) x CLARA BUREL (4.0), CAROLINE GARCIA (1.48) x ASTRA SHARMA (2.55), MARYNA ZANEVSKA (1.83) x STEFANIE VOGELE (1.91), BENOIT PAIRE (1.34) x JUAN PABLO VARILLAS (3.1), JACK SOCK (3.1) x KEVIN ANDERSON (1.34), A. KRAJICEK/V. POSPISIL (1.3) x H. REESE/S. VERBEEK (3.25), ALYCIA PARKS (5.5) x FIONA FERRO (1.14), NIKOLOZ BASILASHVILI (2.45) x LASLO DJERE (1.53), STEFANOS TSITSIPAS (1.14) x FILIP KRAJINOVIC (5.5), VIKTORIA KUZMOVA (3.6) x TEREZA MARTINCOVA (1.28), ZARINA DIYAS (3.25) x CAMILA GIORGI (1.33), YANNICK HANFMANN (1.83) x ARTHUR RINDERKNECH (1.95), FEDERICO CORIA (3.25) x CRISTIAN GARIN (1.33), JENSON BROOKSBY (1.67) x PETER GOJOWCZYK (2.15), JORDAN THOMPSON (1.42) x MAXIME CRESSY (2.85)]\n"
     ]
    }
   ],
   "source": [
    "print(bwin_tennis)"
   ]
  },
  {
   "cell_type": "code",
   "execution_count": 202,
   "metadata": {},
   "outputs": [
    {
     "output_type": "stream",
     "name": "stdout",
     "text": [
      "1\nF. DELBONIS [('FEDERICO DELBONIS', 0.9832442067736186)]\n1\nC. TABERNER [('CARLOS TABERNER', 0.9858585858585859)]\n1\nF. JONES [('FRANCESCA JONES', 0.8866666666666667)]\n1\nJ. NIKLES [('JOHAN NIKLES', 0.9555555555555555)]\n1\nL. BOCCHI [('LORENZO BOCCHI', 0.946031746031746)]\n0\nK. PITER / A. RUS []\n1\nM. HIBI [('MAYO HIBI', 0.9206349206349207)]\n0\nR. MONTGOMERY (M) []\n0\nK. SCOTT (M) []\n0\nA. REAMI []\n0\nA. BONDAR / D. GALFI []\n0\nO. LUZ / F. MELIGENI RODRIGUES ALVES []\n1\nE. YMER [('ELIAS YMER', 0.9095238095238096)]\n0\nA. BROGAN []\n0\nL. BEVAN []\n1\nC. TABUR [('CLÉMENT TABUR', 0.8948717948717949)]\n0\nA. PANOVA / J. WACHACZYK []\n1\nT. ETCHEVERRY [('TOMAS MARTIN ETCHEVERRY', 1.0)]\n1\nA. CAZAUX [('ARTHUR CAZAUX', 0.9504273504273504)]\n0\nG. BROUWER / J. SELS []\n0\nM. KESTELBOIM / F. MENA []\n1\nY. NISHIOKA / Y. UCHIYAMA [('YASUTAKA UCHIYAMA', 0.9710286576168929)]\n1\nY. BONAVENTURE [('YSALINE BONAVENTURE', 1.0)]\n1\nP. MARTÍN TIFFON [('POL MARTIN TIFFON', 0.9799019607843137)]\n1\nM. YEROLYMOS [('MARGOT YEROLYMOS', 1.0)]\n0\nA. MOTTI / J. OCLEPPO []\n1\nB. PAIRE [('BENOÎT PAIRE', 0.9277777777777778)]\n1\nE. PEREZ-SOMARRIBA [('ESTELA PEREZ-SOMARRIBA', 1.0)]\n0\nI. CORLEY []\n0\nE. KALIEVA (M) []\n1\nE. ARANGO [('EMILIANA ARANGO', 0.9244444444444444)]\n1\nM. MATEAS [('MARIA MATEAS', 0.9555555555555555)]\n0\nT. HANDS []\n0\nM. BASING []\n1\nZ. DIYAS [('ZARINA DIYAS', 0.9277777777777778)]\n1\nA. RITSCHARD [('ALEXANDER RITSCHARD', 1.0)]\n1\nA. BUBLIK [('ALEXANDER BUBLIK', 0.9388888888888889)]\n0\nF. DIAZ ACOSTA / A. MERINO []\n0\nD. DE JONGE / G. DEN OUDEN []\n0\nM. BORTOLOTTI / C. RODRIGUEZ []\n1\nJ. SOCK [('JACK SOCK', 0.9206349206349207)]\n0\nA. KRAJICEK / V. POSPISIL []\nWall time: 58 ms\n"
     ]
    }
   ],
   "source": [
    "%%time\n",
    "for bet in reta_tennis:\n",
    "    cnt, l_f = 0, []\n",
    "    for player in all_players:\n",
    "        if player[0] == bet.teams[0][0] and player.split()[-1] == bet.teams[0].split()[-1]:\n",
    "            cnt += 1\n",
    "            l_f.append((player, lev.jaro_winkler(bet.teams[0][::-1], player[::-1])))\n",
    "    print(cnt)\n",
    "    #l_f = [(p, lev.jaro_winkler(bet.teams[0][::-1], p[::-1])) for p in all_players]\n",
    "    l_f.sort(key=lambda x: x[1], reverse=True)\n",
    "    print(bet.teams[0], l_f[:3])"
   ]
  },
  {
   "cell_type": "code",
   "execution_count": 182,
   "metadata": {},
   "outputs": [
    {
     "output_type": "execute_result",
     "data": {
      "text/plain": [
       "0.692857142857143"
      ]
     },
     "metadata": {},
     "execution_count": 182
    }
   ],
   "source": [
    "lev.jaro_winkler(\"Novak Djokovic\", \"Aovok Djokóvíć\")"
   ]
  },
  {
   "source": [
    "%%time\n",
    "for bet in bwin_tennis:\n",
    "    print(bet.teams[0])\n",
    "    if bet.teams[0] in all_players:\n",
    "        print(\"YES\")\n",
    "    else:\n",
    "        print(\"NO\")"
   ],
   "cell_type": "code",
   "metadata": {},
   "execution_count": null,
   "outputs": []
  },
  {
   "cell_type": "code",
   "execution_count": 169,
   "metadata": {},
   "outputs": [],
   "source": [
    "class WilliamHill(House):\n",
    "    def __init__(self):\n",
    "        self.link = \"https://sports.williamhill.es/betting/es-es\"\n",
    "        self.sports = {\"tennis\" : \"tenis/partidos\"}\n",
    "\n",
    "    def link_sport(self, sport):\n",
    "        return f\"{self.link}/{self.sports[sport]}\"\n",
    "\n",
    "    def sport_bets(self, sport):\n",
    "        driver.get(self.link_sport(sport))\n",
    "        for _ in range(3):\n",
    "            driver.execute_script(\"window.scrollTo(0, document.body.scrollHeight);\")\n",
    "            time.sleep(0.2)\n",
    "        response = driver.page_source\n",
    "        soup = BeautifulSoup(response, \"html.parser\")\n",
    "        matches = soup.findAll('div', attrs={'class':'event'})\n",
    "        ret_bets = []\n",
    "        for match in matches:\n",
    "            teams = match.find('a')\n",
    "            teams_final, bets_final = [], []\n",
    "            teams_final = teams['title'].split('₋')\n",
    "            bets = match.findAll('button', attrs={'class':'btn betbutton oddsbutton'})\n",
    "            for bet in bets:\n",
    "                bets_final.append(bet.text)\n",
    "            ret_bets.append(Bet(teams_final, bets_final))\n",
    "        return ret_bets"
   ]
  },
  {
   "cell_type": "code",
   "execution_count": 177,
   "metadata": {},
   "outputs": [
    {
     "output_type": "stream",
     "name": "stdout",
     "text": [
      "Wall time: 2.57 s\n"
     ]
    }
   ],
   "source": [
    "%%time\n",
    "william_hill = WilliamHill()\n",
    "william_hill_tennis = william_hill.sport_bets(\"tennis\")"
   ]
  },
  {
   "cell_type": "code",
   "execution_count": 178,
   "metadata": {},
   "outputs": [
    {
     "output_type": "execute_result",
     "data": {
      "text/plain": [
       "[BENOIT PAIRE (4.5) x JUAN PABLO VARILLAS (1.17),\n",
       " ALEXANDER BUBLIK (1.0) x JASON JUNG (34.0),\n",
       " AUSTIN KRAJICEK/VASEK POSPISIL (1.36) x HUNTER REESE/SEM VERBEEK (3.0),\n",
       " KAMILLA RAKHIMOVA (1.17) x CLARA BUREL (4.5),\n",
       " CAROLINE GARCIA (1.4) x ASTRA SHARMA (2.75),\n",
       " ALYCIA PARKS (6.0) x FIONA FERRO (1.12),\n",
       " ZARINA DIYAS (3.3) x CAMILA GIORGI (1.33),\n",
       " MANDY MINELLA/STEFANIE VOEGELE (4.75) x ERI HOZUMI/SHUAI ZHANG (1.15),\n",
       " ALEXANDRA PANOVA/JULIA WACHACZYK (1.5) x FRANCESCA DI LORENZO/ASTRA SHARMA (2.5),\n",
       " TALLON GRIEKSPOOR (1.01) x MICHAEL VRBENSKY (21.0),\n",
       " JOHAN NIKLES (1.91) x LUKAS ROSOL (1.8),\n",
       " ALEXANDER RITSCHARD (1.02) x GIOVANNI FONIO (13.0),\n",
       " ALESSANDRO MOTTI/JULIAN OCLEPPO (2.1) x ALESSIO DE BERNARDIS/FRANCESCO PASSARO (1.67),\n",
       " MARCO BORTOLOTTI/CRISTIAN RODRÍGUEZ (1.8) x FRANCESCO FORTI/GIULIO ZEPPIERI (1.91),\n",
       " FACUNDO DIAZ ACOSTA/ALEXANDER MERINO (2.62) x TOMÁS MARTÍN ETCHEVERRY/THIAGO AGUSTIN TIRANTE (1.44),\n",
       " EKATERINA SHALIMOVA (3.25) x ANASTASIA TIKHONOVA (1.33),\n",
       " MARIAM BOLKVADZE (1.33) x SHALIMAR TALBI (3.25),\n",
       " YULIYA HATOUKA (1.73) x ANNA KUBAREVA (2.0),\n",
       " MARIA MATEAS (11.0) x ELLIE DOUGLAS (1.03),\n",
       " ELVINA KALIEVA (4.5) x REBECCA MARINO (1.17),\n",
       " IVANA CORLEY (1.4) x ALDILA SUTJIADI (2.75),\n",
       " EMILIANA ARANGO (1.3) x CAROL ZHAO (3.4),\n",
       " JESSICA FAILLA/KATARINA JOKIC (1.57) x ABIGAIL FORBES/KATRINA SCOTT (2.25),\n",
       " JOELLE KISSELL/KELLY WILLIFORD (7.0) x LAUREN PROCTOR/ANNA ULYASHCHENKO (1.08),\n",
       " KYLIE COLLINS/ROBIN MONTGOMERY (1.5) x VICTORIA RODRIGUEZ/AMY ZHU (2.5),\n",
       " MAX BASING (2.37) x SEAN HODKIN (1.53),\n",
       " MCCLAIN KESSLER (1.3) x CONNOR THOMSON (3.4),\n",
       " JULIEN EVRARD (5.0) x ANDRES MARTIN (1.14),\n",
       " JUAN PABLO CENOZ (1.1) x WILLIAM COOKSEY (6.5)]"
      ]
     },
     "metadata": {},
     "execution_count": 178
    }
   ],
   "source": [
    "william_hill_tennis"
   ]
  },
  {
   "cell_type": "code",
   "execution_count": 11,
   "metadata": {},
   "outputs": [],
   "source": [
    "driver.get(\"https://m.apuestas.codere.es/deportes/index.htm#/HomePage\")"
   ]
  },
  {
   "cell_type": "code",
   "execution_count": 13,
   "metadata": {},
   "outputs": [],
   "source": [
    "driver.get(\"https://betway.es/es/sports\")"
   ]
  },
  {
   "cell_type": "code",
   "execution_count": 14,
   "metadata": {},
   "outputs": [
    {
     "output_type": "error",
     "ename": "SyntaxError",
     "evalue": "invalid syntax (<ipython-input-14-1cfd38ecb6f9>, line 1)",
     "traceback": [
      "\u001b[1;36m  File \u001b[1;32m\"<ipython-input-14-1cfd38ecb6f9>\"\u001b[1;36m, line \u001b[1;32m1\u001b[0m\n\u001b[1;33m    <span class=\"teamNameFirstPart teamNameHomeTextFirstPart\">Elias Ymer</span>\u001b[0m\n\u001b[1;37m    ^\u001b[0m\n\u001b[1;31mSyntaxError\u001b[0m\u001b[1;31m:\u001b[0m invalid syntax\n"
     ]
    }
   ],
   "source": [
    "<span class=\"teamNameFirstPart teamNameHomeTextFirstPart\">Elias Ymer</span>"
   ]
  }
 ]
}