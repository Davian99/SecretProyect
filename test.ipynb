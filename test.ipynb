{
 "metadata": {
  "language_info": {
   "codemirror_mode": {
    "name": "ipython",
    "version": 3
   },
   "file_extension": ".py",
   "mimetype": "text/x-python",
   "name": "python",
   "nbconvert_exporter": "python",
   "pygments_lexer": "ipython3",
   "version": "3.9.4"
  },
  "orig_nbformat": 4,
  "kernelspec": {
   "name": "python3",
   "display_name": "Python 3.9.4 64-bit"
  },
  "interpreter": {
   "hash": "63fd5069d213b44bf678585dea6b12cceca9941eaf7f819626cde1f2670de90d"
  }
 },
 "nbformat": 4,
 "nbformat_minor": 2,
 "cells": [
  {
   "source": [
    "# Reventar a las casas de apuestas"
   ],
   "cell_type": "markdown",
   "metadata": {}
  },
  {
   "source": [
    "### Imports and options"
   ],
   "cell_type": "markdown",
   "metadata": {}
  },
  {
   "cell_type": "code",
   "execution_count": 1,
   "metadata": {},
   "outputs": [],
   "source": [
    "import sqlite3\n",
    "import time\n",
    "from bs4 import BeautifulSoup\n",
    "from abc import ABC\n",
    "import Levenshtein as lev\n",
    "import string"
   ]
  },
  {
   "cell_type": "code",
   "execution_count": 2,
   "metadata": {},
   "outputs": [
    {
     "output_type": "execute_result",
     "data": {
      "text/plain": [
       "'\\natp, wta, all = set(), set(), set()\\nfor row in open(\"atp_players.csv\"):\\n    player = row.split(\\',\\')\\n#    if player[4] == \"\" or int(player[4][:4]) <= 1980:\\n#        continue\\n    atp.add((player[1] + \\' \\' + player[2]).upper())\\nfor row in open(\"wta_players.csv\"):\\n    player = row.split(\\',\\')\\n#    if player[4] == \"\" or int(player[4][:4]) <= 1980:\\n#        continue\\n    wta.add((player[1] + \\' \\' + player[2]).upper())\\nall_players = atp.union(wta)\\nprint(f\"ATP total: {len(atp)}\")\\nprint(f\"WTA total: {len(wta)}\")\\nprint(f\"ALL total: {len(all_players)}\")\\n'"
      ]
     },
     "metadata": {},
     "execution_count": 2
    }
   ],
   "source": [
    "# Source: https://github.com/JeffSackmann/tennis_atp y https://github.com/JeffSackmann/tennis_wta\n",
    "\"\"\"\n",
    "atp, wta, all = set(), set(), set()\n",
    "for row in open(\"atp_players.csv\"):\n",
    "    player = row.split(',')\n",
    "#    if player[4] == \"\" or int(player[4][:4]) <= 1980:\n",
    "#        continue\n",
    "    atp.add((player[1] + ' ' + player[2]).upper())\n",
    "for row in open(\"wta_players.csv\"):\n",
    "    player = row.split(',')\n",
    "#    if player[4] == \"\" or int(player[4][:4]) <= 1980:\n",
    "#        continue\n",
    "    wta.add((player[1] + ' ' + player[2]).upper())\n",
    "all_players = atp.union(wta)\n",
    "print(f\"ATP total: {len(atp)}\")\n",
    "print(f\"WTA total: {len(wta)}\")\n",
    "print(f\"ALL total: {len(all_players)}\")\n",
    "\"\"\""
   ]
  },
  {
   "cell_type": "code",
   "execution_count": 3,
   "metadata": {},
   "outputs": [],
   "source": [
    "conn = sqlite3.connect(\"bets_database.db\")\n",
    "cursor = conn.cursor()\n",
    "\n",
    "#If the table does not exists, we create it\n",
    "if cursor.execute(\"PRAGMA table_info(TENNIS_PLAYERS)\").fetchall() == []:\n",
    "    tennis_players_table_query = \"\"\"CREATE TABLE TENNIS_PLAYERS (\n",
    "        name TEXT     UNIQUE,\n",
    "        sex  TEXT (1) \n",
    "    );\"\"\"\n",
    "    cursor.execute(tennis_players_table_query)\n",
    "    conn.commit()"
   ]
  },
  {
   "cell_type": "code",
   "execution_count": 95,
   "metadata": {},
   "outputs": [],
   "source": [
    "all_players = set([x[0].upper() for x in cursor.execute(\"SELECT name FROM TENNIS_PLAYERS\").fetchall()])"
   ]
  },
  {
   "cell_type": "code",
   "execution_count": 5,
   "metadata": {},
   "outputs": [],
   "source": [
    "from selenium import webdriver\n",
    "from selenium.webdriver.common.keys import Keys\n",
    "from selenium.webdriver.common.by import By\n",
    "from selenium.webdriver.support.wait import WebDriverWait\n",
    "from selenium.webdriver.support import expected_conditions as EC # Wait for condition\n",
    "\n",
    "options = webdriver.ChromeOptions()\n",
    "options.add_argument('ignore-certificate-errors')\n",
    "options.add_argument(\"--window-size=1920,1080\")\n",
    "options.add_argument('--headless')\n",
    "options.add_experimental_option(\"excludeSwitches\", [\"enable-automation\"])\n",
    "options.add_experimental_option('useAutomationExtension', False)\n",
    "\n",
    "#options.add_experimental_option('excludeSwitches', ['enable-logging'])\n",
    "\n",
    "driver = webdriver.Chrome(options=options)"
   ]
  },
  {
   "cell_type": "code",
   "execution_count": 61,
   "metadata": {},
   "outputs": [],
   "source": [
    "class Bet():\n",
    "    def __init__(self, teams, bets):\n",
    "        self.teams = [x.strip().upper() for x in teams]\n",
    "        self.real_teams = []\n",
    "        self.bets = [float(x.replace(',', '.')) for x in bets]\n",
    "        self.date_time = None\n",
    "        self.link = None\n",
    "        self.house = None\n",
    "    \n",
    "    def is_error(self):\n",
    "        if len(self.real_teams) < 2 or len(self.bets) < 2:\n",
    "            return True\n",
    "        return False\n",
    "\n",
    "    def __repr__(self):\n",
    "        if self.is_error():\n",
    "            return \"ERROR BET\"\n",
    "        return f\"{self.real_teams[0]} ({self.bets[0]}) x {self.real_teams[1]} ({self.bets[1]})\""
   ]
  },
  {
   "cell_type": "code",
   "execution_count": 69,
   "metadata": {},
   "outputs": [],
   "source": [
    "class House(ABC):\n",
    "    def link_sport(self, sport):\n",
    "        pass\n",
    "    def sport_bets(self, sport):\n",
    "        pass\n",
    "    def real_names(self):\n",
    "        pass"
   ]
  },
  {
   "cell_type": "code",
   "execution_count": 84,
   "metadata": {},
   "outputs": [],
   "source": [
    "class Retabet(House):\n",
    "    def __init__(self):\n",
    "        self.link = \"https://apuestas.retabet.es\"\n",
    "        self.sports = {\"tennis\" : \"tenis-m8\"}\n",
    "        self.ret_bets = []\n",
    "\n",
    "    def link_sport(self, sport):\n",
    "        return f\"{self.link}/deportes/{self.sports[sport]}\"\n",
    "\n",
    "    def sport_bets(self, sport):\n",
    "        driver.get(self.link_sport(sport))\n",
    "        response = driver.page_source\n",
    "        soup = BeautifulSoup(response, \"html.parser\")\n",
    "        table = soup.find('ul', attrs={'class':'module__events-cont jbgroup'}) #TODO findAll\n",
    "        for row in table:\n",
    "            row = row.find('a', attrs={'class':'jlink'})\n",
    "            teams = row.find('div', attrs={'class':'module__event-info'})\n",
    "            teams = teams.find('ul', attrs={'class':'module__event-players'})\n",
    "            teams = list(map(lambda elem: elem.text, teams.findAll('li')))\n",
    "\n",
    "            bets = row.find('div', attrs={'class':'list-events__element__bets'})\n",
    "            bets = row.find('div', attrs={'class':'module__bets-list jbet'})\n",
    "            bets = row.findAll('li', attrs={'class':'jo module__bets-li'})\n",
    "            bets_list = []\n",
    "            for bet, _ in zip(bets, range(2)):\n",
    "                bet = bet.find('span', attrs={'class':'jpr module__bets-cuota'})\n",
    "                bets_list.append(bet.text)\n",
    "\n",
    "            bet = Bet(teams, bets_list)\n",
    "            self.ret_bets.append(bet)\n",
    "        self.real_names()\n",
    "        return self.ret_bets\n",
    "    \n",
    "    def real_names(self):\n",
    "        for bet in self.ret_bets:\n",
    "            for team in bet.teams:\n",
    "                cnt, l_f = 0, []\n",
    "                for player in all_players:\n",
    "                    if player[0] == team[0] and player.split()[-1] == team.split()[-1]:\n",
    "                        cnt += 1\n",
    "                        l_f.append((player, lev.jaro_winkler(bet.teams[0][::-1], player[::-1])))\n",
    "                l_f.sort(key=lambda x: x[1], reverse=True)\n",
    "                if cnt == 1:\n",
    "                    bet.real_teams.append(l_f[0][0])\n",
    "            print(bet)"
   ]
  },
  {
   "cell_type": "code",
   "execution_count": 85,
   "metadata": {
    "tags": []
   },
   "outputs": [
    {
     "output_type": "stream",
     "name": "stdout",
     "text": [
      "MAX PURCELL (2.1) x YU-HSIOU HSU (1.65)\nROMAN SAFIULLIN (1.18) x PETER POLANSKY (4.3)\nERROR BET\nERROR BET\nERROR BET\nJASON KUBLER (1.45) x JAY CLARKE (2.55)\nZARINA DIYAS (3.2) x CAMILA GIORGI (1.33)\nYANNICK HANFMANN (1.8) x ARTHUR RINDERKNECH (1.95)\nYULIA PUTINTSEVA (1.5) x KATERYNA KOZLOVA (2.5)\nERROR BET\nGUIDO ANDREOZZI (1.72) x JELLE SELS (2.0)\nSTORM SANDERS (1.85) x GREET MINNEN (1.9)\nFELIPE MELIGENI RODRIGUES ALVES (1.8) x DIMITAR KUZMANOV (1.9)\nGONZALO LAMA (1.15) x SANDRO KOPP (4.1)\nERROR BET\nERROR BET\nANTOINE HOANG (1.45) x LUKÁŠ ROSOL (2.5)\nERROR BET\nERROR BET\nNIKOLOZ BASILASHVILI (2.35) x LASLO DJERE (1.55)\nERROR BET\nERROR BET\nCASPER RUUD (1.14) x HENRI LAAKSONEN (5.0)\nPANNA UDVARDY (3.2) x ANHELINA KALININA (1.3)\nERROR BET\nERROR BET\nNICOLAS JARRY (1.4) x MATHEUS PUCINELLI DE ALMEIDA (2.8)\nJESPER DE JONG (2.85) x BOTIC VAN DE ZANDSCHULP (1.37)\nROBERTO CARBALLÉS BAENA (1.65) x NORBERT GOMBOS (2.1)\nPAULA ORMAECHEA (4.7) x DANIELLE COLLINS (1.15)\nERROR BET\nBENOÎT PAIRE (3.6) x FEDERICO DELBONIS (1.25)\nJENSON BROOKSBY (1.6) x PETER GOJOWCZYK (2.2)\nFEDERICO GAIO (1.95) x FLAVIO COBOLLI (1.75)\nJORDAN THOMPSON (1.37) x MAXIME CRESSY (2.85)\nWall time: 831 ms\n"
     ]
    }
   ],
   "source": [
    "%%time\n",
    "reta = Retabet()\n",
    "reta_tennis = reta.sport_bets(\"tennis\")"
   ]
  },
  {
   "cell_type": "code",
   "execution_count": 74,
   "metadata": {},
   "outputs": [
    {
     "output_type": "stream",
     "name": "stdout",
     "text": [
      "Wall time: 0 ns\n"
     ]
    },
    {
     "output_type": "execute_result",
     "data": {
      "text/plain": [
       "[MAX PURCELL (2.1) x MAX PURCELL (1.65),\n",
       " ROMAN SAFIULLIN (1.18) x ROMAN SAFIULLIN (4.3),\n",
       " BORNA GOJO (1.95) x BORNA GOJO (1.75),\n",
       " ERROR BET,\n",
       " ERROR BET,\n",
       " JASON KUBLER (1.45) x JASON KUBLER (2.55),\n",
       " ZARINA DIYAS (3.2) x ZARINA DIYAS (1.33),\n",
       " YANNICK HANFMANN (1.8) x YANNICK HANFMANN (1.95),\n",
       " YULIA PUTINTSEVA (1.5) x YULIA PUTINTSEVA (2.5),\n",
       " ERROR BET,\n",
       " GUIDO ANDREOZZI (1.75) x GUIDO ANDREOZZI (2.0),\n",
       " STORM SANDERS (1.85) x STORM SANDERS (1.9),\n",
       " FELIPE MELIGENI RODRIGUES ALVES (1.8) x FELIPE MELIGENI RODRIGUES ALVES (1.9),\n",
       " GONZALO LAMA (1.15) x GONZALO LAMA (4.1),\n",
       " ERROR BET,\n",
       " KIRILL KIVATTSEV (1.15) x KIRILL KIVATTSEV (4.2),\n",
       " ANTOINE HOANG (1.45) x ANTOINE HOANG (2.5),\n",
       " FEDERICO CORIA (3.3) x FEDERICO CORIA (1.3),\n",
       " ERROR BET,\n",
       " NIKOLOZ BASILASHVILI (2.35) x NIKOLOZ BASILASHVILI (1.55),\n",
       " ERROR BET,\n",
       " GRACE MIN (2.85) x GRACE MIN (1.4),\n",
       " CASPER RUUD (1.14) x CASPER RUUD (5.0),\n",
       " PANNA UDVARDY (3.2) x PANNA UDVARDY (1.3),\n",
       " ERROR BET,\n",
       " STEFANOS TSITSIPAS (1.12) x STEFANOS TSITSIPAS (5.5),\n",
       " NICOLAS JARRY (1.4) x NICOLAS JARRY (2.8),\n",
       " JESPER DE JONG (2.85) x JESPER DE JONG (1.37),\n",
       " ROBERTO CARBALLÉS BAENA (1.65) x ROBERTO CARBALLÉS BAENA (2.1),\n",
       " PAULA ORMAECHEA (4.7) x PAULA ORMAECHEA (1.15),\n",
       " ERROR BET,\n",
       " BENOÎT PAIRE (3.6) x BENOÎT PAIRE (1.25),\n",
       " JENSON BROOKSBY (1.6) x JENSON BROOKSBY (2.2),\n",
       " FEDERICO GAIO (1.95) x FEDERICO GAIO (1.75),\n",
       " JORDAN THOMPSON (1.37) x JORDAN THOMPSON (2.85)]"
      ]
     },
     "metadata": {},
     "execution_count": 74
    }
   ],
   "source": [
    "%%time\n",
    "reta.ret_bets"
   ]
  },
  {
   "cell_type": "code",
   "execution_count": 86,
   "metadata": {},
   "outputs": [],
   "source": [
    "class Bwin(House):\n",
    "    def __init__(self):\n",
    "        self.link = \"https://sports.bwin.es/es/sports\"\n",
    "        self.sports = {\"tennis\" : \"tenis-5\"}\n",
    "\n",
    "    def link_sport(self, sport):\n",
    "        return f\"{self.link}/{self.sports[sport]}\"\n",
    "\n",
    "    def sport_bets(self, sport):\n",
    "        driver.get(self.link_sport(sport))\n",
    "        while True:\n",
    "            try:\n",
    "                driver.find_element_by_css_selector('#main-view > ms-widget-layout > ms-widget-slot.col-9.widget-slot')\n",
    "                break\n",
    "            except:\n",
    "                time.sleep(0.5)\n",
    "        response = driver.page_source\n",
    "        soup = BeautifulSoup(response, \"html.parser\")\n",
    "        table1 = soup.find('ms-widget-slot', attrs={'class':'col-9 widget-slot'})\n",
    "        table2 = table1.find('ms-tabbed-grid', attrs={'class':'grid-wrapper tabbed-grid-widget'})\n",
    "        table3 = table2.find('ms-grid')\n",
    "        table4 = table3.find('ms-event-group', attrs={'class':'event-group'})\n",
    "        rows = table4.findAll('ms-event', attrs={'class':'grid-event ms-active-highlight'})\n",
    "        \n",
    "        ret_bets = []\n",
    "        for row in rows:\n",
    "            try:\n",
    "                row = row.find('div', attrs={'class':'grid-event-wrapper'})\n",
    "                \n",
    "                teams = row.find('a', attrs={'class':'grid-info-wrapper fixed'})\n",
    "                teams = teams.find('ms-event-detail', attrs={'class':'grid-event-detail'})\n",
    "                teams = teams.find('ms-event-name', attrs={'class':'grid-event-name'})\n",
    "                teams = teams.find('ms-inline-tooltip')\n",
    "                teams = teams.find('div', attrs={'class':'participants-pair-game'})\n",
    "                teams = teams.findAll('div', {'class':['participant-wrapper ng-star-inserted', 'participant-wrapper']})\n",
    "                teams_final = []\n",
    "                for team in teams:\n",
    "                    team = team.find('div', attrs={'class':'participant'})\n",
    "                    team = team.find(text=True, recursive=False).strip()\n",
    "                    teams_final.append(team)\n",
    "\n",
    "                bets = row.find('div', attrs={'class':'grid-group-container'})\n",
    "                bets = row.find('ms-option-group', attrs={'class':'grid-option-group grid-group'})\n",
    "                bets = row.findAll('ms-option', attrs={'class':'grid-option'})\n",
    "                bets_final = []\n",
    "                for bet, _ in zip(bets, range(2)):\n",
    "                    bets_final.append(bet.text)\n",
    "\n",
    "                bet = Bet(teams_final, bets_final)\n",
    "                ret_bets.append(bet)\n",
    "            except:\n",
    "                pass\n",
    "        return ret_bets"
   ]
  },
  {
   "cell_type": "code",
   "execution_count": 87,
   "metadata": {},
   "outputs": [
    {
     "output_type": "stream",
     "name": "stdout",
     "text": [
      "Wall time: 4.46 s\n"
     ]
    }
   ],
   "source": [
    "%%time\n",
    "bwin = Bwin()\n",
    "bwin_tennis = bwin.sport_bets(\"tennis\")"
   ]
  },
  {
   "cell_type": "code",
   "execution_count": 88,
   "metadata": {},
   "outputs": [
    {
     "output_type": "execute_result",
     "data": {
      "text/plain": [
       "[ERROR BET,\n",
       " ERROR BET,\n",
       " ERROR BET,\n",
       " ERROR BET,\n",
       " ERROR BET,\n",
       " ERROR BET,\n",
       " ERROR BET,\n",
       " ERROR BET,\n",
       " ERROR BET,\n",
       " ERROR BET,\n",
       " ERROR BET,\n",
       " ERROR BET,\n",
       " ERROR BET,\n",
       " ERROR BET,\n",
       " ERROR BET]"
      ]
     },
     "metadata": {},
     "execution_count": 88
    }
   ],
   "source": [
    "bwin_tennis"
   ]
  },
  {
   "source": [
    "%%time\n",
    "for bet in bwin_tennis:\n",
    "    print(bet.teams[0])\n",
    "    if bet.teams[0] in all_players:\n",
    "        print(\"YES\")\n",
    "    else:\n",
    "        print(\"NO\")"
   ],
   "cell_type": "code",
   "metadata": {},
   "execution_count": 94,
   "outputs": [
    {
     "output_type": "stream",
     "name": "stdout",
     "text": [
      "KAMILLA RAKHIMOVA\nNO\nCAROLINE GARCIA\nNO\nMARYNA ZANEVSKA\nNO\nALYCIA PARKS\nNO\nZARINA DIYAS\nNO\nYANNICK HANFMANN\nNO\nNIKOLOZ BASILASHVILI\nNO\nFEDERICO CORIA\nNO\nSTEFANOS TSITSIPAS\nNO\nCASPER RUUD\nNO\nDUSAN LAJOVIC\nNO\nROBERTO CARBALLES BAENA\nNO\nBENOIT PAIRE\nNO\nJENSON BROOKSBY\nNO\nJORDAN THOMPSON\nNO\nWall time: 1.15 ms\n"
     ]
    }
   ]
  },
  {
   "cell_type": "code",
   "execution_count": 16,
   "metadata": {},
   "outputs": [],
   "source": [
    "class WilliamHill(House):\n",
    "    def __init__(self):\n",
    "        self.link = \"https://sports.williamhill.es/betting/es-es\"\n",
    "        self.sports = {\"tennis\" : \"tenis/partidos\"}\n",
    "\n",
    "    def link_sport(self, sport):\n",
    "        return f\"{self.link}/{self.sports[sport]}\"\n",
    "\n",
    "    def sport_bets(self, sport):\n",
    "        driver.get(self.link_sport(sport))\n",
    "        for _ in range(3):\n",
    "            driver.execute_script(\"window.scrollTo(0, document.body.scrollHeight);\")\n",
    "            time.sleep(0.2)\n",
    "        response = driver.page_source\n",
    "        soup = BeautifulSoup(response, \"html.parser\")\n",
    "        matches = soup.findAll('div', attrs={'class':'event'})\n",
    "        ret_bets = []\n",
    "        for match in matches:\n",
    "            teams = match.find('a')\n",
    "            teams_final, bets_final = [], []\n",
    "            teams_final = teams['title'].split('₋')\n",
    "            bets = match.findAll('button', attrs={'class':'btn betbutton oddsbutton'})\n",
    "            for bet in bets:\n",
    "                bets_final.append(bet.text)\n",
    "            ret_bets.append(Bet(teams_final, bets_final))\n",
    "        return ret_bets"
   ]
  },
  {
   "cell_type": "code",
   "execution_count": 17,
   "metadata": {},
   "outputs": [
    {
     "output_type": "stream",
     "name": "stdout",
     "text": [
      "Wall time: 4.17 s\n"
     ]
    }
   ],
   "source": [
    "%%time\n",
    "william_hill = WilliamHill()\n",
    "william_hill_tennis = william_hill.sport_bets(\"tennis\")"
   ]
  },
  {
   "cell_type": "code",
   "execution_count": 18,
   "metadata": {},
   "outputs": [
    {
     "output_type": "execute_result",
     "data": {
      "text/plain": [
       "[ALEXANDRA PANOVA/JULIA WACHACZYK (1.5) x FRANCESCA DI LORENZO/ASTRA SHARMA (2.5),\n",
       " MAX PURCELL (2.2) x YU HSIOU HSU (1.61),\n",
       " ROMAN SAFIULLIN (1.14) x PETER POLANSKY (5.0),\n",
       " EKATERINA SHALIMOVA (4.0) x ANASTASIA TIKHONOVA (1.22),\n",
       " MARIAM BOLKVADZE (1.33) x SHALIMAR TALBI (3.25),\n",
       " YULIYA HATOUKA (1.73) x ANNA KUBAREVA (2.0),\n",
       " MATTHEW SEGURA (1.53) x ALEX CAIRO (2.37),\n",
       " LUKAS GREIF (5.5) x AIDAN KIM (1.12)]"
      ]
     },
     "metadata": {},
     "execution_count": 18
    }
   ],
   "source": [
    "william_hill_tennis"
   ]
  },
  {
   "cell_type": "code",
   "execution_count": 19,
   "metadata": {},
   "outputs": [],
   "source": [
    "driver.get(\"https://m.apuestas.codere.es/deportes/index.htm#/HomePage\")"
   ]
  },
  {
   "cell_type": "code",
   "execution_count": 20,
   "metadata": {},
   "outputs": [],
   "source": [
    "driver.get(\"https://betway.es/es/sports\")"
   ]
  }
 ]
}