{
 "metadata": {
  "language_info": {
   "codemirror_mode": {
    "name": "ipython",
    "version": 3
   },
   "file_extension": ".py",
   "mimetype": "text/x-python",
   "name": "python",
   "nbconvert_exporter": "python",
   "pygments_lexer": "ipython3",
   "version": "3.9.4"
  },
  "orig_nbformat": 4,
  "kernelspec": {
   "name": "python3",
   "display_name": "Python 3.9.4 64-bit"
  },
  "interpreter": {
   "hash": "63fd5069d213b44bf678585dea6b12cceca9941eaf7f819626cde1f2670de90d"
  }
 },
 "nbformat": 4,
 "nbformat_minor": 2,
 "cells": [
  {
   "source": [
    "# Reventar a las casas de apuestas"
   ],
   "cell_type": "markdown",
   "metadata": {}
  },
  {
   "source": [
    "### Imports and options"
   ],
   "cell_type": "markdown",
   "metadata": {}
  },
  {
   "cell_type": "code",
   "execution_count": 3,
   "metadata": {},
   "outputs": [],
   "source": [
    "import sqlite3\n",
    "from bs4 import BeautifulSoup"
   ]
  },
  {
   "cell_type": "code",
   "execution_count": 1,
   "metadata": {},
   "outputs": [],
   "source": [
    "from selenium import webdriver\n",
    "from selenium.webdriver.common.keys import Keys\n",
    "\n",
    "options = webdriver.ChromeOptions()\n",
    "options.add_argument('ignore-certificate-errors')\n",
    "#options.add_argument('--headless')\n",
    "options.add_experimental_option(\"excludeSwitches\", [\"enable-automation\"])\n",
    "options.add_experimental_option('useAutomationExtension', False)\n",
    "#options.add_experimental_option('excludeSwitches', ['enable-logging'])\n",
    "\n",
    "driver = webdriver.Chrome(options=options)"
   ]
  },
  {
   "cell_type": "code",
   "execution_count": 9,
   "metadata": {},
   "outputs": [],
   "source": [
    "class Bet():\n",
    "    def __init__(self, teams, bets):\n",
    "        self.teams = teams\n",
    "        self.bets = bets\n",
    "\n",
    "    def __repr__(self):\n",
    "        return f\"{self.teams[0]} ({self.bets[0]}) x {self.teams[1]} ({self.bets[1]})\""
   ]
  },
  {
   "cell_type": "code",
   "execution_count": 7,
   "metadata": {},
   "outputs": [],
   "source": [
    "class Retabet():\n",
    "    def __init__(self):\n",
    "        self.link = \"https://apuestas.retabet.es\"\n",
    "        self.sports = {\"tennis\" : \"tenis-m8\"}\n",
    "\n",
    "    def link_sport(self, sport):\n",
    "        return f\"{self.link}/deportes/{self.sports[sport]}\"\n",
    "\n",
    "    def sport_bets(self, sport):\n",
    "        driver.get(self.link_sport(sport))\n",
    "        response = driver.page_source\n",
    "        #f = open(\"out\", \"w+\")\n",
    "        #print(html.encode('utf-8'), file=f)\n",
    "        soup = BeautifulSoup(response, \"html.parser\")\n",
    "        table = soup.find('ul', attrs={'class':'module__events-cont jbgroup'}) #TODO findAll\n",
    "        ret_bets = []\n",
    "        for row in table:\n",
    "            row = row.find('a', attrs={'class':'jlink'})\n",
    "            teams = row.find('div', attrs={'class':'module__event-info'})\n",
    "            teams = teams.find('ul', attrs={'class':'module__event-players'})\n",
    "            teams = list(map(lambda elem: elem.text, teams.findAll('li')))\n",
    "\n",
    "            bets = row.find('div', attrs={'class':'list-events__element__bets'})\n",
    "            bets = row.find('div', attrs={'class':'module__bets-list jbet'})\n",
    "            bets = row.findAll('li', attrs={'class':'jo module__bets-li'})\n",
    "            bets_list = []\n",
    "            for bet, _ in zip(bets, range(2)):\n",
    "                bet = bet.find('span', attrs={'class':'jpr module__bets-cuota'})\n",
    "                bets_list.append(bet.text)\n",
    "\n",
    "            bet = Bet(teams, bets_list)\n",
    "            ret_bets.append(bet)\n",
    "        return ret_bets"
   ]
  },
  {
   "cell_type": "code",
   "execution_count": 10,
   "metadata": {
    "tags": []
   },
   "outputs": [
    {
     "output_type": "execute_result",
     "data": {
      "text/plain": [
       "F. PASSARO (2,05) x D. POPKO (1,70)"
      ]
     },
     "metadata": {},
     "execution_count": 10
    }
   ],
   "source": [
    "reta = Retabet()\n",
    "reta.sport_bets(\"tennis\")"
   ]
  },
  {
   "cell_type": "code",
   "execution_count": null,
   "metadata": {},
   "outputs": [],
   "source": []
  },
  {
   "cell_type": "code",
   "execution_count": 20,
   "metadata": {},
   "outputs": [],
   "source": [
    "driver.get(\"https://sports.bwin.es/es/sports\")"
   ]
  },
  {
   "cell_type": "code",
   "execution_count": 2,
   "metadata": {},
   "outputs": [],
   "source": [
    "driver.get(\"https://m.apuestas.codere.es/deportes/index.htm#/HomePage\")"
   ]
  },
  {
   "cell_type": "code",
   "execution_count": 4,
   "metadata": {},
   "outputs": [],
   "source": [
    "driver.get(\"https://sports.williamhill.es/betting/es-es\")"
   ]
  },
  {
   "cell_type": "code",
   "execution_count": 5,
   "metadata": {},
   "outputs": [],
   "source": [
    "driver.get(\"https://betway.es/es/sports\")"
   ]
  },
  {
   "cell_type": "code",
   "execution_count": null,
   "metadata": {},
   "outputs": [],
   "source": [
    "<span class=\"teamNameFirstPart teamNameHomeTextFirstPart\">Elias Ymer</span>"
   ]
  }
 ]
}