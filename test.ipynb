{
 "metadata": {
  "language_info": {
   "codemirror_mode": {
    "name": "ipython",
    "version": 3
   },
   "file_extension": ".py",
   "mimetype": "text/x-python",
   "name": "python",
   "nbconvert_exporter": "python",
   "pygments_lexer": "ipython3",
   "version": "3.9.4"
  },
  "orig_nbformat": 4,
  "kernelspec": {
   "name": "python3",
   "display_name": "Python 3.9.4 64-bit"
  },
  "interpreter": {
   "hash": "63fd5069d213b44bf678585dea6b12cceca9941eaf7f819626cde1f2670de90d"
  }
 },
 "nbformat": 4,
 "nbformat_minor": 2,
 "cells": [
  {
   "source": [
    "# Reventar a las casas de apuestas"
   ],
   "cell_type": "markdown",
   "metadata": {}
  },
  {
   "source": [
    "### Imports and options"
   ],
   "cell_type": "markdown",
   "metadata": {}
  },
  {
   "source": [
    "TODO:\n",
    " - Change Bwin page to https://sports.bwin.es/es/sports/tenis-5/apuestas\n",
    " - Links in bets\n",
    " - Houses in bets"
   ],
   "cell_type": "markdown",
   "metadata": {}
  },
  {
   "cell_type": "code",
   "execution_count": 95,
   "metadata": {},
   "outputs": [],
   "source": [
    "import sqlite3\n",
    "import time\n",
    "from bs4 import BeautifulSoup\n",
    "from abc import ABC\n",
    "import Levenshtein as lev\n",
    "import string\n",
    "from collections import defaultdict"
   ]
  },
  {
   "cell_type": "code",
   "execution_count": 2,
   "metadata": {},
   "outputs": [
    {
     "output_type": "execute_result",
     "data": {
      "text/plain": [
       "'\\natp, wta, all = set(), set(), set()\\nfor row in open(\"atp_players.csv\"):\\n    player = row.split(\\',\\')\\n#    if player[4] == \"\" or int(player[4][:4]) <= 1980:\\n#        continue\\n    atp.add((player[1] + \\' \\' + player[2]).upper())\\nfor row in open(\"wta_players.csv\"):\\n    player = row.split(\\',\\')\\n#    if player[4] == \"\" or int(player[4][:4]) <= 1980:\\n#        continue\\n    wta.add((player[1] + \\' \\' + player[2]).upper())\\nall_players = atp.union(wta)\\nprint(f\"ATP total: {len(atp)}\")\\nprint(f\"WTA total: {len(wta)}\")\\nprint(f\"ALL total: {len(all_players)}\")\\n'"
      ]
     },
     "metadata": {},
     "execution_count": 2
    }
   ],
   "source": [
    "# Source: https://github.com/JeffSackmann/tennis_atp y https://github.com/JeffSackmann/tennis_wta\n",
    "\"\"\"\n",
    "atp, wta, all = set(), set(), set()\n",
    "for row in open(\"atp_players.csv\"):\n",
    "    player = row.split(',')\n",
    "#    if player[4] == \"\" or int(player[4][:4]) <= 1980:\n",
    "#        continue\n",
    "    atp.add((player[1] + ' ' + player[2]).upper())\n",
    "for row in open(\"wta_players.csv\"):\n",
    "    player = row.split(',')\n",
    "#    if player[4] == \"\" or int(player[4][:4]) <= 1980:\n",
    "#        continue\n",
    "    wta.add((player[1] + ' ' + player[2]).upper())\n",
    "all_players = atp.union(wta)\n",
    "print(f\"ATP total: {len(atp)}\")\n",
    "print(f\"WTA total: {len(wta)}\")\n",
    "print(f\"ALL total: {len(all_players)}\")\n",
    "\"\"\""
   ]
  },
  {
   "cell_type": "code",
   "execution_count": 3,
   "metadata": {},
   "outputs": [],
   "source": [
    "conn = sqlite3.connect(\"bets_database.db\")\n",
    "cursor = conn.cursor()\n",
    "\n",
    "#If the table does not exists, we create it\n",
    "if cursor.execute(\"PRAGMA table_info(TENNIS_PLAYERS)\").fetchall() == []:\n",
    "    tennis_players_table_query = \"\"\"CREATE TABLE TENNIS_PLAYERS (\n",
    "        name TEXT     UNIQUE,\n",
    "        sex  TEXT (1) \n",
    "    );\"\"\"\n",
    "    cursor.execute(tennis_players_table_query)\n",
    "    conn.commit()"
   ]
  },
  {
   "cell_type": "code",
   "execution_count": 4,
   "metadata": {},
   "outputs": [],
   "source": [
    "all_players = set([x[0].upper() for x in cursor.execute(\"SELECT name FROM TENNIS_PLAYERS\").fetchall()])"
   ]
  },
  {
   "cell_type": "code",
   "execution_count": 90,
   "metadata": {},
   "outputs": [],
   "source": [
    "from selenium import webdriver\n",
    "from selenium.webdriver.common.keys import Keys\n",
    "from selenium.webdriver.common.by import By\n",
    "from selenium.webdriver.support.wait import WebDriverWait\n",
    "from selenium.webdriver.support import expected_conditions as EC # Wait for condition\n",
    "\n",
    "options = webdriver.ChromeOptions()\n",
    "options.add_argument('ignore-certificate-errors')\n",
    "options.add_argument(\"--window-size=1920,1080\")\n",
    "#options.add_argument('--headless')\n",
    "options.add_experimental_option(\"excludeSwitches\", [\"enable-automation\"])\n",
    "options.add_experimental_option('useAutomationExtension', False)\n",
    "\n",
    "#options.add_experimental_option('excludeSwitches', ['enable-logging'])\n",
    "\n",
    "driver = webdriver.Chrome(options=options)"
   ]
  },
  {
   "cell_type": "code",
   "execution_count": 60,
   "metadata": {},
   "outputs": [],
   "source": [
    "class Bet():\n",
    "    def __init__(self, teams, bets):\n",
    "        self.teams = [x.strip().upper() for x in teams]\n",
    "        self.real_teams = []\n",
    "        self.bets = [float(x.replace(',', '.')) for x in bets]\n",
    "        self.date_time = None\n",
    "        self.link = None\n",
    "        self.house = None\n",
    "    \n",
    "    def is_error(self):\n",
    "        if len(self.real_teams) < 2:\n",
    "            return True\n",
    "        return False\n",
    "\n",
    "    def __repr__(self):\n",
    "        if self.is_error():\n",
    "            return f\"ERROR BET ({self.teams})\"\n",
    "        return f\"{self.real_teams[0]} ({self.bets[0]}) x {self.real_teams[1]} ({self.bets[1]})\"\n",
    "    \n",
    "    def __eq__(self, x):\n",
    "        if self.is_error() or x.is_error():\n",
    "            return False\n",
    "        return self.real_teams == x.real_teams\n",
    "    \n",
    "    def hash(self):\n",
    "        if self.is_error():\n",
    "            return None\n",
    "        return f\"{self.real_teams[0]}{self.real_teams[1]}\".replace(' ', '')"
   ]
  },
  {
   "cell_type": "code",
   "execution_count": 7,
   "metadata": {},
   "outputs": [],
   "source": [
    "class House(ABC):\n",
    "    def link_sport(self, sport):\n",
    "        pass\n",
    "    def sport_bets(self, sport):\n",
    "        pass\n",
    "    def real_names(self):\n",
    "        pass"
   ]
  },
  {
   "cell_type": "code",
   "execution_count": 112,
   "metadata": {},
   "outputs": [],
   "source": [
    "class Retabet(House):\n",
    "    def __init__(self):\n",
    "        self.link = \"https://apuestas.retabet.es\"\n",
    "        self.sports = {\"tennis\" : \"tenis-m8\"}\n",
    "        self.ret_bets = []\n",
    "\n",
    "    def link_sport(self, sport):\n",
    "        return f\"{self.link}/deportes/{self.sports[sport]}\"\n",
    "\n",
    "    def sport_bets(self, sport):\n",
    "        self.ret_bets = []\n",
    "        driver.get(self.link_sport(sport))\n",
    "        response = driver.page_source\n",
    "        soup = BeautifulSoup(response, \"html.parser\")\n",
    "        table = soup.find('ul', attrs={'class':'module__events-cont jbgroup'}) #TODO findAll\n",
    "        for row in table:\n",
    "            row = row.find('a', attrs={'class':'jlink'})\n",
    "            teams = row.find('div', attrs={'class':'module__event-info'})\n",
    "            teams = teams.find('ul', attrs={'class':'module__event-players'})\n",
    "            teams = list(map(lambda elem: elem.text, teams.findAll('li')))\n",
    "\n",
    "            bets = row.find('div', attrs={'class':'list-events__element__bets'})\n",
    "            bets = row.find('div', attrs={'class':'module__bets-list jbet'})\n",
    "            bets = row.findAll('li', attrs={'class':'jo module__bets-li'})\n",
    "            bets_list = []\n",
    "            for bet, _ in zip(bets, range(2)):\n",
    "                bet = bet.find('span', attrs={'class':'jpr module__bets-cuota'})\n",
    "                bets_list.append(bet.text)\n",
    "\n",
    "            bet = Bet(teams, bets_list)\n",
    "            self.ret_bets.append(bet)\n",
    "        self.real_names()\n",
    "        return self.ret_bets\n",
    "    \n",
    "    def real_names(self):\n",
    "        for bet in self.ret_bets:\n",
    "            for team in bet.teams:\n",
    "                cnt, l_f = 0, []\n",
    "                for player in all_players:\n",
    "                    if player[0] == team[0] and player.split()[-1] == team.split()[-1]:\n",
    "                        cnt += 1\n",
    "                        l_f.append((player, lev.jaro_winkler(bet.teams[0][::-1], player[::-1])))\n",
    "                l_f.sort(key=lambda x: x[1], reverse=True)\n",
    "                if cnt == 1:\n",
    "                    bet.real_teams.append(l_f[0][0])"
   ]
  },
  {
   "cell_type": "code",
   "execution_count": 111,
   "metadata": {},
   "outputs": [],
   "source": [
    "class Bwin(House):\n",
    "    def __init__(self):\n",
    "        self.link = \"https://sports.bwin.es/es/sports\"\n",
    "        self.sports = {\"tennis\" : \"tenis-5\"}\n",
    "        self.ret_bets = []\n",
    "\n",
    "    def link_sport(self, sport):\n",
    "        return f\"{self.link}/{self.sports[sport]}\"\n",
    "\n",
    "    def sport_bets(self, sport):\n",
    "        self.ret_bets = []\n",
    "        driver.get(self.link_sport(sport))\n",
    "        while True:\n",
    "            try:\n",
    "                driver.find_element_by_css_selector('#main-view > ms-widget-layout > ms-widget-slot.col-9.widget-slot')\n",
    "                break\n",
    "            except:\n",
    "                time.sleep(0.5)\n",
    "        response = driver.page_source\n",
    "        soup = BeautifulSoup(response, \"html.parser\")\n",
    "        table1 = soup.find('ms-widget-slot', attrs={'class':'col-9 widget-slot'})\n",
    "        table2 = table1.find('ms-tabbed-grid', attrs={'class':'grid-wrapper tabbed-grid-widget'})\n",
    "        table3 = table2.find('ms-grid')\n",
    "        table4 = table3.find('ms-event-group', attrs={'class':'event-group'})\n",
    "        rows = table4.findAll('ms-event', attrs={'class':'grid-event ms-active-highlight'})\n",
    "        \n",
    "        ret_bets = []\n",
    "        for row in rows:\n",
    "            try:\n",
    "                row = row.find('div', attrs={'class':'grid-event-wrapper'})\n",
    "                \n",
    "                teams = row.find('a', attrs={'class':'grid-info-wrapper fixed'})\n",
    "                teams = teams.find('ms-event-detail', attrs={'class':'grid-event-detail'})\n",
    "                teams = teams.find('ms-event-name', attrs={'class':'grid-event-name'})\n",
    "                teams = teams.find('ms-inline-tooltip')\n",
    "                teams = teams.find('div', attrs={'class':'participants-pair-game'})\n",
    "                teams = teams.findAll('div', {'class':['participant-wrapper ng-star-inserted', 'participant-wrapper']})\n",
    "                teams_final = []\n",
    "                for team in teams:\n",
    "                    team = team.find('div', attrs={'class':'participant'})\n",
    "                    team = team.find(text=True, recursive=False).strip()\n",
    "                    teams_final.append(team)\n",
    "\n",
    "                bets = row.find('div', attrs={'class':'grid-group-container'})\n",
    "                bets = row.find('ms-option-group', attrs={'class':'grid-option-group grid-group'})\n",
    "                bets = row.findAll('ms-option', attrs={'class':'grid-option'})\n",
    "                bets_final = []\n",
    "                for bet, _ in zip(bets, range(2)):\n",
    "                    bets_final.append(bet.text)\n",
    "\n",
    "                bet = Bet(teams_final, bets_final)\n",
    "                self.ret_bets.append(bet)\n",
    "            except:\n",
    "                pass\n",
    "        self.real_names()\n",
    "        return self.ret_bets\n",
    "\n",
    "    def real_names(self):\n",
    "        for bet in self.ret_bets:\n",
    "            for team in bet.teams:\n",
    "                cnt, l_f = 0, []\n",
    "                for player in all_players:\n",
    "                    if player[0] == team[0] or player[1] == team[1]:\n",
    "                        cnt += 1\n",
    "                        l_f.append((player, lev.jaro_winkler(player, team)))\n",
    "                l_f.sort(key=lambda x: x[1], reverse=True)\n",
    "                bet.real_teams.append(l_f[0][0])"
   ]
  },
  {
   "cell_type": "code",
   "execution_count": 110,
   "metadata": {},
   "outputs": [],
   "source": [
    "class WilliamHill(House):\n",
    "    def __init__(self):\n",
    "        self.link = \"https://sports.williamhill.es/betting/es-es\"\n",
    "        self.sports = {\"tennis\" : \"tenis/partidos\"}\n",
    "        self.ret_bets = []\n",
    "\n",
    "    def link_sport(self, sport):\n",
    "        return f\"{self.link}/{self.sports[sport]}\"\n",
    "\n",
    "    def sport_bets(self, sport):\n",
    "        self.ret_bets = []\n",
    "        driver.get(self.link_sport(sport))\n",
    "        for _ in range(3):\n",
    "            driver.execute_script(\"window.scrollTo(0, document.body.scrollHeight);\")\n",
    "            time.sleep(0.2)\n",
    "        response = driver.page_source\n",
    "        soup = BeautifulSoup(response, \"html.parser\")\n",
    "        matches = soup.findAll('div', attrs={'class':'event'})\n",
    "        for match in matches:\n",
    "            teams = match.find('a')\n",
    "            teams_final, bets_final = [], []\n",
    "            teams_final = teams['title'].split('₋')\n",
    "            bets = match.findAll('button', attrs={'class':'btn betbutton oddsbutton'})\n",
    "            for bet in bets:\n",
    "                bets_final.append(bet.text)\n",
    "            self.ret_bets.append(Bet(teams_final, bets_final))\n",
    "        self.real_names()\n",
    "        return self.ret_bets\n",
    "\n",
    "    def real_names(self):\n",
    "        for bet in self.ret_bets:\n",
    "            for team in bet.teams:\n",
    "                cnt, l_f = 0, []\n",
    "                for player in all_players:\n",
    "                    if player[0] == team[0] or player[1] == team[1]:\n",
    "                        cnt += 1\n",
    "                        l_f.append((player, lev.jaro_winkler(player, team)))\n",
    "                l_f.sort(key=lambda x: x[1], reverse=True)\n",
    "                bet.real_teams.append(l_f[0][0])"
   ]
  },
  {
   "cell_type": "code",
   "execution_count": 114,
   "metadata": {},
   "outputs": [],
   "source": [
    "reta = Retabet()\n",
    "bwin = Bwin()\n",
    "william_hill = WilliamHill()\n",
    "house_list = [reta, bwin, william_hill]"
   ]
  },
  {
   "cell_type": "code",
   "execution_count": null,
   "metadata": {},
   "outputs": [],
   "source": [
    "william_hill.link_sport(\"tennis\")"
   ]
  },
  {
   "cell_type": "code",
   "execution_count": 131,
   "metadata": {},
   "outputs": [
    {
     "output_type": "stream",
     "name": "stdout",
     "text": [
      "Wall time: 10.9 s\n"
     ]
    },
    {
     "output_type": "execute_result",
     "data": {
      "text/plain": [
       "defaultdict(<function __main__.<lambda>()>,\n",
       "            {'JENSONBROOKSBYPETERGOJOWCZYK': [JENSON BROOKSBY (1.7) x PETER GOJOWCZYK (2.1),\n",
       "              JENSON BROOKSBY (1.78) x PETER GOJOWCZYK (2.0),\n",
       "              JENSON BROOKSBY (1.73) x PETER GOJOWCZYK (2.1)],\n",
       "             'FEDERICOGAIOFLAVIOCOBOLLI': [FEDERICO GAIO (2.0) x FLAVIO COBOLLI (1.72),\n",
       "              FEDERICO GAIO (1.95) x FLAVIO COBOLLI (1.75),\n",
       "              FEDERICO GAIO (1.83) x FLAVIO COBOLLI (1.83)],\n",
       "             'JORDANTHOMPSONMAXIMECRESSY': [JORDAN THOMPSON (1.45) x MAXIME CRESSY (2.6),\n",
       "              JORDAN THOMPSON (1.5) x MAXIME CRESSY (2.55),\n",
       "              JORDAN THOMPSON (1.53) x MAXIME CRESSY (2.5)],\n",
       "             'ALEKSANDRNEDOVYESOVTOMÁSLIPOVSEKPUCHES': [ALEKSANDR NEDOVYESOV (6.75) x TOMÁS LIPOVSEK PUCHES (1.09)],\n",
       "             'FRANCESCAJONESARIANNEHARTONO': [FRANCESCA JONES (2.0) x ARIANNE HARTONO (1.72)],\n",
       "             'MARYNAZANEVSKANATALIAVIKHLYANTSEVA': [MARYNA ZANEVSKA (1.55) x NATALIA VIKHLYANTSEVA (2.35)],\n",
       "             'PAULAORMAECHEADANIELLECOLLINS': [PAULA ORMAECHEA (4.75) x DANIELLE COLLINS (1.16)],\n",
       "             'BENOÎTPAIREFEDERICODELBONIS': [BENOÎT PAIRE (4.0) x FEDERICO DELBONIS (1.22)],\n",
       "             'LUCACASTELNUOVODIWU': [LUCA CASTELNUOVO (2.55) x DI WU (1.44)],\n",
       "             'FACUNDODIAZACOSTAANTONIALOTTNER': [FACUNDO DIAZ ACOSTA (2.1) x ANTONIA LOTTNER (1.62)],\n",
       "             'KEVINKRAWIETZJOSEFCO.VIDALAZORIN': [KEVIN KRAWIETZ (1.13) x JOSE FCO. VIDAL AZORIN (5.25)],\n",
       "             'TEREZAMARTINCOVÁGREETMINNEN': [TEREZA MARTINCOVÁ (1.67) x GREET MINNEN (2.15)],\n",
       "             'YANNICKHANFMANNFEDERICOCORIA': [YANNICK HANFMANN (2.0) x FEDERICO CORIA (1.78)],\n",
       "             'ALEXANDERRITSCHARDKEVINANDERSON': [ALEXANDER RITSCHARD (1.8) x KEVIN ANDERSON (2.0)],\n",
       "             'PAULAARIASMANJÓNSEBASTIANPRECHTEL': [PAULA ARIAS MANJÓN (1.65) x SEBASTIAN PRECHTEL (2.1)],\n",
       "             'DUŠANLAJOVIĆPABLOCARREÑOBUSTA': [DUŠAN LAJOVIĆ (4.5) x PABLO CARREÑO BUSTA (1.17)],\n",
       "             'ANDREYGOLUBEVTIMVANRIJTHOVEN': [ANDREY GOLUBEV (6.5) x TIM VAN RIJTHOVEN (1.1)],\n",
       "             'PANNAUDVARDYANHELINAKALITA': [PANNA UDVARDY (17.0) x ANHELINA KALITA (1.01)],\n",
       "             'TALLONGRIEKSPOORKIMMERCOPPEJANS': [TALLON GRIEKSPOOR (1.02) x KIMMER COPPEJANS (15.0)],\n",
       "             'FACUNDODIAZACOSTAALESSANDROPETRONE': [FACUNDO DIAZ ACOSTA (2.1) x ALESSANDRO PETRONE (1.67)],\n",
       "             'LUCACASTELNUOVODUSTINBROWN': [LUCA CASTELNUOVO (2.62) x DUSTIN BROWN (1.44)],\n",
       "             'CARMENSCHULTHEISSLAURENPROCTOR': [CARMEN SCHULTHEISS (1.8) x LAUREN PROCTOR (1.91)],\n",
       "             'KYLEEDMUNDJESSICAFAILLA': [KYLE EDMUND (1.44) x JESSICA FAILLA (2.62)]})"
      ]
     },
     "metadata": {},
     "execution_count": 131
    }
   ],
   "source": [
    "%%time\n",
    "match_dict = defaultdict(lambda: [])\n",
    "for house in house_list:\n",
    "    house.sport_bets(\"tennis\")\n",
    "    for match in house.ret_bets:\n",
    "        if match.is_error():\n",
    "            continue\n",
    "        match_dict[match.hash()].append(match)\n",
    "match_dict"
   ]
  },
  {
   "cell_type": "code",
   "execution_count": 81,
   "metadata": {},
   "outputs": [],
   "source": [
    "def retorno(ca, cb):\n",
    "    return ca / (1 + (ca / cb))"
   ]
  },
  {
   "cell_type": "code",
   "execution_count": 132,
   "metadata": {},
   "outputs": [],
   "source": [
    "for key, match in match_dict.items():\n",
    "    if len(match) <= 1:\n",
    "        continue\n",
    "    for m1 in match:\n",
    "        for m2 in match:\n",
    "            ret = retorno(m1.bets[0], m2.bets[1])\n",
    "            if ret >= 1:\n",
    "                print(ret)\n",
    "                print(m1, m2)"
   ]
  },
  {
   "cell_type": "code",
   "execution_count": 18,
   "metadata": {},
   "outputs": [],
   "source": [
    "driver.get(\"https://m.apuestas.codere.es/deportes/index.htm#/HomePage\")"
   ]
  },
  {
   "cell_type": "code",
   "execution_count": 19,
   "metadata": {},
   "outputs": [],
   "source": [
    "driver.get(\"https://betway.es/es/sports\")"
   ]
  }
 ]
}