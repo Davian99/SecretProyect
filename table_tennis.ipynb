{
 "metadata": {
  "language_info": {
   "codemirror_mode": {
    "name": "ipython",
    "version": 3
   },
   "file_extension": ".py",
   "mimetype": "text/x-python",
   "name": "python",
   "nbconvert_exporter": "python",
   "pygments_lexer": "ipython3",
   "version": "3.9.4"
  },
  "orig_nbformat": 4,
  "kernelspec": {
   "name": "python3",
   "display_name": "Python 3.9.4 64-bit"
  },
  "interpreter": {
   "hash": "63fd5069d213b44bf678585dea6b12cceca9941eaf7f819626cde1f2670de90d"
  }
 },
 "nbformat": 4,
 "nbformat_minor": 2,
 "cells": [
  {
   "cell_type": "code",
   "execution_count": 1,
   "metadata": {},
   "outputs": [],
   "source": [
    "import string\n",
    "from collections import defaultdict"
   ]
  },
  {
   "cell_type": "code",
   "execution_count": 2,
   "metadata": {},
   "outputs": [],
   "source": [
    "from bet import Bet"
   ]
  },
  {
   "cell_type": "code",
   "execution_count": 3,
   "metadata": {},
   "outputs": [],
   "source": [
    "import sqlite3\n",
    "\n",
    "conn = sqlite3.connect(\"bets_database.db\")\n",
    "cursor = conn.cursor()\n",
    "\n",
    "#If the table does not exists, we create it\n",
    "if cursor.execute(\"PRAGMA table_info(TABLE_TENNIS_PLAYERS)\").fetchall() == []:\n",
    "    tennis_players_table_query = \"\"\"CREATE TABLE TABLE_TENNIS_PLAYERS (\n",
    "        name TEXT UNIQUE\n",
    "    );\"\"\"\n",
    "    cursor.execute(tennis_players_table_query)\n",
    "    conn.commit()"
   ]
  },
  {
   "cell_type": "code",
   "execution_count": 4,
   "metadata": {},
   "outputs": [],
   "source": [
    "def retorno(ca, cb):\n",
    "    return ca / (1 + (ca / cb))"
   ]
  },
  {
   "cell_type": "code",
   "execution_count": 15,
   "metadata": {},
   "outputs": [],
   "source": [
    "from houses.House import *\n",
    "\n",
    "class WilliamHill(House):\n",
    "    def __init__(self):\n",
    "        super().__init__()\n",
    "        self.link = \"https://sports.williamhill.es/betting/es-es\"\n",
    "        self.sports = {\"tennis\" : \"tenis/partidos\", \"table_tennis\" : \"tenis-de-mesa/partidos/fecha/hoy\"}\n",
    "        self.ret_bets = {}\n",
    "        self.separators = {\"tennis\" : \"?\", \"table_tennis\" : \"₋\"}\n",
    "    \n",
    "    def house(self):\n",
    "        return \"WilliamHill\"\n",
    "\n",
    "    def link_sport(self, sport):\n",
    "        return f\"{self.link}/{self.sports[sport]}\"\n",
    "\n",
    "    def sport_bets(self, sport):\n",
    "        self.ret_bets[sport] = []\n",
    "        self.driver.get(self.link_sport(sport))\n",
    "        for _ in range(3):\n",
    "            self.driver.execute_script(\"window.scrollTo(0, document.body.scrollHeight);\")\n",
    "            time.sleep(0.2)\n",
    "        response = self.driver.page_source\n",
    "        soup = BeautifulSoup(response, \"html.parser\")\n",
    "        matches = soup.findAll('div', attrs={'class':'event'})\n",
    "        for match in matches:\n",
    "            teams = match.find('a')\n",
    "            teams_final, bets_final = [], []\n",
    "            teams_final = teams['title'].split(self.separators[sport])\n",
    "            bets = match.findAll('button', attrs={'class':'btn betbutton oddsbutton'})\n",
    "            for bet in bets:\n",
    "                bets_final.append(bet.text)\n",
    "            b = Bet(teams_final, bets_final)\n",
    "            self.ret_bets[sport].append(b)\n",
    "        self.real_names(sport)\n",
    "        print(\"WilliamHill done\")\n",
    "        return self.ret_bets[sport]\n",
    "\n",
    "    def real_names(self, sport):\n",
    "        for bet in self.ret_bets[sport]:\n",
    "            for team in bet.teams:\n",
    "                cnt, l_f = 0, []\n",
    "                for player in all_players[sport]:\n",
    "                    if player[0] == team[0] or player[1] == team[1]:\n",
    "                        cnt += 1\n",
    "                        l_f.append((player, lev.jaro_winkler(player, team)))\n",
    "                l_f.sort(key=lambda x: x[1], reverse=True)\n",
    "                bet.real_teams.append(l_f[0][0])"
   ]
  },
  {
   "cell_type": "code",
   "execution_count": 16,
   "metadata": {},
   "outputs": [
    {
     "output_type": "stream",
     "name": "stdout",
     "text": [
      "table_tennis teamsfinal: ['Tynchtyk Turabekov ', ' Sergey Ogay']\n",
      "table_tennis teamsfinal: ['Dmitriy Balakin ', ' Sergey Myagkov']\n",
      "table_tennis teamsfinal: ['Sergey Martyukhin ', ' Pavel Semeshin']\n",
      "table_tennis teamsfinal: ['Aleksandr Fedosov ', ' Roman Pavlenko']\n",
      "table_tennis teamsfinal: ['Aleksey Vlasov ', ' Vasily Shirshov']\n",
      "table_tennis teamsfinal: ['Arutyun Aslanyan ', ' Sergey Ogay']\n",
      "table_tennis teamsfinal: ['Denis Sayanov ', ' Pavel Semeshin']\n",
      "table_tennis teamsfinal: ['Oleg Kutuzov ', ' Sergey Myagkov']\n",
      "table_tennis teamsfinal: ['Roman Pavlenko ', ' Tynchtyk Turabekov']\n",
      "table_tennis teamsfinal: ['Vasily Shirshov ', ' Dmitriy Balakin']\n",
      "table_tennis teamsfinal: ['Vladimir Safonov ', ' Sergey Martyukhin']\n",
      "table_tennis teamsfinal: ['Sergey Ogay ', ' Aleksandr Fedosov']\n",
      "table_tennis teamsfinal: ['Pavel Semeshin ', ' Yuriy Merkushin']\n",
      "table_tennis teamsfinal: ['Sergey Myagkov ', ' Aleksey Vlasov']\n",
      "table_tennis teamsfinal: ['Roman Pavlenko ', ' Arutyun Aslanyan']\n",
      "table_tennis teamsfinal: ['Vasily Shirshov ', ' Oleg Kutuzov']\n",
      "table_tennis teamsfinal: ['Vladimir Safonov ', ' Denis Sayanov']\n",
      "table_tennis teamsfinal: ['Aleksandr Fedosov ', ' Tynchtyk Turabekov']\n",
      "table_tennis teamsfinal: ['Aleksey Vlasov ', ' Dmitriy Balakin']\n",
      "table_tennis teamsfinal: ['Yuriy Merkushin ', ' Sergey Martyukhin']\n",
      "table_tennis teamsfinal: ['Andrey Zabrodin ', ' Gennady Karpovkin']\n",
      "table_tennis teamsfinal: ['Roman Alov ', ' Oleg Kharlakin']\n",
      "table_tennis teamsfinal: ['Vyacheslav Tsvetkov ', ' Konstantin Olshakov']\n",
      "table_tennis teamsfinal: ['Alexander Kolmin ', ' Igor Sergeevich']\n",
      "table_tennis teamsfinal: ['Anatoly Trushkin ', ' Danila Andreev']\n",
      "table_tennis teamsfinal: ['Eduard Tsvetkov ', ' Aleksandr Fedorov']\n",
      "table_tennis teamsfinal: ['Gennady Karpovkin ', ' Alexander Kolmin']\n",
      "table_tennis teamsfinal: ['Konstantin Olshakov ', ' Anatoly Trushkin']\n",
      "table_tennis teamsfinal: ['Oleg Kharlakin ', ' Eduard Tsvetkov']\n",
      "table_tennis teamsfinal: ['Igor Sergeevich ', ' Andrey Zabrodin']\n",
      "table_tennis teamsfinal: ['Jiri Martinko ', ' Tomas Koldas']\n",
      "WilliamHill done\n",
      "Wall time: 6.64 s\n"
     ]
    }
   ],
   "source": [
    "%%time\n",
    "w = WilliamHill()\n",
    "w.sport_bets(\"table_tennis\")\n",
    "w.end()"
   ]
  },
  {
   "cell_type": "code",
   "execution_count": 17,
   "metadata": {},
   "outputs": [
    {
     "output_type": "execute_result",
     "data": {
      "text/plain": [
       "{'table_tennis': [TYNCHTYK TURABEKOV (2.62) x SERGEY OGAY (1.44),\n",
       "  DMITRIY TUNITSYN (17.0) x SERGEY MYAGKOV (1.01),\n",
       "  SERGEY MARTYUKHIN (15.0) x PAVEL SEMESHIN (1.02),\n",
       "  ALEKSANDR KLAVDENKOV (1.73) x ROMAN PAVLENKO (2.0),\n",
       "  ALEKSEY LOBANOV (2.0) x VASILY SHIRSHOV (1.73),\n",
       "  ARUTYUN ASLANYAN (1.4) x SERGEY OGAY (2.75),\n",
       "  DENIS SAYANOV (2.5) x PAVEL SEMESHIN (1.5),\n",
       "  OLEG KUTUZOV (1.83) x SERGEY MYAGKOV (1.83),\n",
       "  ROMAN PAVLENKO (1.44) x TYNCHTYK TURABEKOV (2.62),\n",
       "  VASILY SHIRSHOV (1.83) x DMITRIY TUNITSYN (1.83),\n",
       "  VLADIMIR SAFONOV (2.75) x SERGEY MARTYUKHIN (1.4),\n",
       "  SERGEY OGAY (2.3) x ALEKSANDR KLAVDENKOV (1.57),\n",
       "  PAVEL SEMESHIN (1.73) x YURII MERKUSHIN (2.0),\n",
       "  SERGEY MYAGKOV (1.83) x ALEKSEY LOBANOV (1.83),\n",
       "  ROMAN PAVLENKO (1.4) x ARUTYUN ASLANYAN (2.75),\n",
       "  VASILY SHIRSHOV (2.0) x OLEG KUTUZOV (1.73),\n",
       "  VLADIMIR SAFONOV (1.8) x DENIS SAYANOV (1.91),\n",
       "  ALEKSANDR KLAVDENKOV (1.73) x TYNCHTYK TURABEKOV (2.0),\n",
       "  ALEKSEY LOBANOV (1.73) x DMITRIY TUNITSYN (2.0),\n",
       "  YURII MERKUSHIN (2.5) x SERGEY MARTYUKHIN (1.5),\n",
       "  ANDREY ZABRODIN (1.61) x GENNADY KARPOVKIN (2.2),\n",
       "  ROMAN ALOV (1.57) x OLEG KHARLAKIN (2.3),\n",
       "  VYACHESLAV TSVETKOV (1.25) x KONSTANTIN OLSHAKOV (3.75),\n",
       "  ALEXANDER FEDOSOV (1.5) x IGOR SERGEEVICH (2.5),\n",
       "  ANATOLY TRUSHKIN (2.3) x DANILA ANDREEV (1.57),\n",
       "  EDUARD TSVETKOV (2.1) x ALEKSANDR KLAVDENKOV (1.67),\n",
       "  GENNADY KARPOVKIN (1.91) x ALEXANDER FEDOSOV (1.8),\n",
       "  KONSTANTIN OLSHAKOV (2.0) x ANATOLY TRUSHKIN (1.73),\n",
       "  OLEG KHARLAKIN (1.61) x EDUARD TSVETKOV (2.2),\n",
       "  IGOR SERGEEVICH (1.36) x ANDREY ZABRODIN (3.0),\n",
       "  NIKITA SADOVSKIY (1.25) x ROMAN ALOV (3.75)]}"
      ]
     },
     "metadata": {},
     "execution_count": 17
    }
   ],
   "source": [
    "w.ret_bets"
   ]
  },
  {
   "cell_type": "code",
   "execution_count": 12,
   "metadata": {},
   "outputs": [],
   "source": [
    "from houses.House import *\n",
    "\n",
    "class Bwin(House):\n",
    "    def __init__(self):\n",
    "        super().__init__()\n",
    "        self.link = \"https://sports.bwin.es/es/sports\"\n",
    "        self.sports = {\"tennis\" : \"tenis-5\", \"table_tennis\" : \"tenis-de-mesa-56/apuestas\"}\n",
    "        self.ret_bets = {}\n",
    "        self.wait_element = {\"tennis\" : \"#main-view > ms-widget-layout > ms-widget-slot.col-9.widget-slot\", \n",
    "                             \"table_tennis\" : \"#main-view > ms-widget-layout > ms-widget-slot.col-9.widget-slot\"}\n",
    "\n",
    "    def house(self):\n",
    "        return \"Bwin\"\n",
    "\n",
    "    def link_sport(self, sport):\n",
    "        return f\"{self.link}/{self.sports[sport]}\"\n",
    "\n",
    "    def sport_bets(self, sport):\n",
    "        self.ret_bets[sport] = []\n",
    "        self.driver.get(self.link_sport(sport))\n",
    "        while True:\n",
    "            try:\n",
    "                self.driver.find_element_by_css_selector(self.wait_element[sport])\n",
    "                break\n",
    "            except:\n",
    "                time.sleep(1)\n",
    "                break\n",
    "        response = self.driver.page_source\n",
    "        soup = BeautifulSoup(response, \"html.parser\")        \n",
    "        rows = soup.findAll('ms-event', attrs={'class': 'grid-event ms-active-highlight'})\n",
    "\n",
    "        for row in rows:\n",
    "            try:\n",
    "                row = row.find('div', attrs={'class':'grid-event-wrapper'})\n",
    "                teams = row.findAll('div', {'class':['participant-wrapper ng-star-inserted', 'participant-wrapper']})\n",
    "                teams_final = []\n",
    "                for team in teams:\n",
    "                    team = team.find('div', attrs={'class':'participant'})\n",
    "                    team = team.find(text=True, recursive=False).strip()\n",
    "                    teams_final.append(team)\n",
    "\n",
    "                bets = row.findAll('ms-option', attrs={'class':'grid-option'})\n",
    "                bets_final = []\n",
    "                for bet, _ in zip(bets, range(2)):\n",
    "                    bets_final.append(bet.text)\n",
    "\n",
    "                bet = Bet(teams_final, bets_final)\n",
    "                self.ret_bets[sport].append(bet)\n",
    "            except:\n",
    "                pass\n",
    "        self.real_names(sport)\n",
    "        print(\"Bwin done\")\n",
    "        return self.ret_bets[sport]\n",
    "\n",
    "    def real_names(self, sport):\n",
    "        for bet in self.ret_bets[sport]:\n",
    "            for team in bet.teams:\n",
    "                cnt, l_f = 0, []\n",
    "                for player in all_players[sport]:\n",
    "                    if player[0] == team[0] or player[1] == team[1]:\n",
    "                        cnt += 1\n",
    "                        l_f.append((player, lev.jaro_winkler(player, team)))\n",
    "                l_f.sort(key=lambda x: x[1], reverse=True)\n",
    "                bet.real_teams.append(l_f[0][0])"
   ]
  },
  {
   "cell_type": "code",
   "execution_count": 13,
   "metadata": {},
   "outputs": [
    {
     "output_type": "stream",
     "name": "stdout",
     "text": [
      "Bwin done\n",
      "Wall time: 11 s\n"
     ]
    }
   ],
   "source": [
    "%%time\n",
    "b = Bwin()\n",
    "b.sport_bets(\"table_tennis\")\n",
    "b.end()"
   ]
  },
  {
   "cell_type": "code",
   "execution_count": 14,
   "metadata": {},
   "outputs": [
    {
     "output_type": "execute_result",
     "data": {
      "text/plain": [
       "{'table_tennis': [TYNCHTYK TURABEKOV (1.83) x SERGEY OGAY (1.87),\n",
       "  SERGEY MARTYUKHIN (10.5) x PAVEL SEMESHIN (1.02),\n",
       "  DMITRY BALAKIN (1.28) x SERGEY MYAGKOV (3.4),\n",
       "  ALEKSANDR KLAVDENKOV (2.0) x ROMAN PAVLENKO (1.72),\n",
       "  YURII MERKUSHIN (2.0) x VLADIMIR SAFONOV (1.72),\n",
       "  ALEKSEY LOBANOV (2.0) x VASILY SHIRSHOV (1.72),\n",
       "  ARUTYUN ASLANYAN (1.36) x SERGEY OGAY (2.9),\n",
       "  DENIS SAYANOV (2.35) x PAVEL SEMESHIN (1.53),\n",
       "  OLEG KUTUZOV (1.85) x SERGEY MYAGKOV (1.85),\n",
       "  ROMAN PAVLENKO (1.42) x TYNCHTYK TURABEKOV (2.65),\n",
       "  VLADIMIR SAFONOV (2.75) x SERGEY MARTYUKHIN (1.4),\n",
       "  VASILY SHIRSHOV (1.85) x DMITRY BALAKIN (1.85),\n",
       "  SERGEY OGAY (2.3) x ALEKSANDR KLAVDENKOV (1.55),\n",
       "  PAVEL SEMESHIN (1.65) x YURII MERKUSHIN (2.1),\n",
       "  SERGEY MYAGKOV (1.85) x ALEKSEY LOBANOV (1.85),\n",
       "  ROMAN PAVLENKO (1.4) x ARUTYUN ASLANYAN (2.75),\n",
       "  VLADIMIR SAFONOV (1.72) x DENIS SAYANOV (2.0),\n",
       "  VASILY SHIRSHOV (2.0) x OLEG KUTUZOV (1.72),\n",
       "  ALEKSANDR KLAVDENKOV (1.72) x TYNCHTYK TURABEKOV (2.0),\n",
       "  YURII MERKUSHIN (2.45) x SERGEY MARTYUKHIN (1.48),\n",
       "  ALEKSEY LOBANOV (1.72) x DMITRY BALAKIN (2.0),\n",
       "  ANDREY ZABRODIN (1.6) x GENNADY KARPOVKIN (2.2),\n",
       "  VYACHESLAV TSVETKOV (1.25) x KONSTANTIN OLSHAKOV (3.6),\n",
       "  ALEKSANDR KLAVDENKOV (1.5) x IGOR SERGEEVICH (2.4),\n",
       "  ANATOLY TRUSHKIN (2.2) x DANILA ANDREEV (1.6),\n",
       "  EDUARD TSVETKOV (2.1) x ALEKSANDR KLAVDENKOV (1.65),\n",
       "  GENNADY KARPOVKIN (1.91) x ALEKSANDR KLAVDENKOV (1.8),\n",
       "  KONSTANTIN OLSHAKOV (2.0) x ANATOLY TRUSHKIN (1.72),\n",
       "  OLEG KHARLAKIN (1.6) x EDUARD TSVETKOV (2.2),\n",
       "  IGOR SERGEEVICH (1.3) x ANDREY ZABRODIN (3.2),\n",
       "  ALEKSANDR KLAVDENKOV (2.0) x ROMAN ALOV (1.72),\n",
       "  DANILA ANDREEV (1.6) x VYACHESLAV TSVETKOV (2.2),\n",
       "  ANDREY ZABRODIN (1.6) x ALEKSANDR KLAVDENKOV (2.2),\n",
       "  VYACHESLAV TSVETKOV (1.6) x ANATOLY TRUSHKIN (2.2),\n",
       "  ROMAN ALOV (1.72) x EDUARD TSVETKOV (2.0),\n",
       "  GENNADY KARPOVKIN (1.91) x IGOR SERGEEVICH (1.8),\n",
       "  KONSTANTIN OLSHAKOV (2.0) x DANILA ANDREEV (1.72),\n",
       "  OLEG KHARLAKIN (2.2) x ALEKSANDR KLAVDENKOV (1.6),\n",
       "  SERGEY KUZMIN (1.65) x VLADIMIR MISHAKIN (2.1),\n",
       "  ARUTYUN ASLANYAN (2.4) x ALEKSEY LOBANOV (1.5),\n",
       "  EGOR MISHUTIN (2.0) x DMITRY PETROCHENKO (1.72),\n",
       "  MAKSIM DUKHIN (1.85) x ANDREY SHMAKOV (1.85),\n",
       "  IGOR MINCHENKOV (2.2) x PAVEL MEDVEDEV (1.6),\n",
       "  DMITRI RAZINKOV (2.4) x ALEKSANDR KLAVDENKOV (1.5),\n",
       "  VLADIMIR MISHAKIN (1.8) x MAKSIM DUKHIN (1.91),\n",
       "  ALEKSEY LOBANOV (1.6) x IGOR MINCHENKOV (2.2),\n",
       "  DMITRY PETROCHENKO (2.1) x DMITRI RAZINKOV (1.65),\n",
       "  ANDREY SHMAKOV (1.72) x SERGEY KUZMIN (2.0),\n",
       "  ALEKSANDR KLAVDENKOV (1.8) x EGOR MISHUTIN (1.91),\n",
       "  PAVEL MEDVEDEV (1.42) x ARUTYUN ASLANYAN (2.65)]}"
      ]
     },
     "metadata": {},
     "execution_count": 14
    }
   ],
   "source": [
    "b.ret_bets"
   ]
  }
 ]
}